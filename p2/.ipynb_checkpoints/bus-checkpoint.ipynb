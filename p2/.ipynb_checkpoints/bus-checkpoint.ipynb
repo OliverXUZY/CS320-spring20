{
 "cells": [
  {
   "cell_type": "code",
   "execution_count": 1,
   "metadata": {},
   "outputs": [],
   "source": [
    "from bus import Location\n",
    "import pandas as pd\n",
    "from zipfile import ZipFile   \n",
    "from datetime import datetime"
   ]
  },
  {
   "cell_type": "code",
   "execution_count": 78,
   "metadata": {},
   "outputs": [
    {
     "name": "stdout",
     "output_type": "stream",
     "text": [
      "Location(xy=(-0.75, 0.15)) Location(xy=(-1.20, -0.20))\n",
      "distance: 0.5682593522032543\n"
     ]
    }
   ],
   "source": [
    "memorial_union = Location(latlon = (43.076833, -89.399135))\n",
    "union_south = Location(latlon = (43.071821, -89.408072))\n",
    "print(memorial_union, union_south)\n",
    "print(\"distance:\", memorial_union.dist(union_south))"
   ]
  },
  {
   "cell_type": "code",
   "execution_count": null,
   "metadata": {},
   "outputs": [],
   "source": []
  },
  {
   "cell_type": "code",
   "execution_count": null,
   "metadata": {},
   "outputs": [],
   "source": [
    "## BusDay:\n",
    "import pandas as pd\n",
    "from zipfile import ZipFile   \n",
    "from datetime import datetime\n",
    "\n",
    "class BusDay:\n",
    "    with ZipFile('mmt_gtfs.zip') as zf:\n",
    "        with zf.open(\"calendar.txt\") as f:\n",
    "            df = pd.read_csv(f)\n",
    "        \n",
    "    def __init__(self, datetime):\n",
    "        self.datetime = datetime\n",
    "        self.numtime = int(self.datetime.strftime(\"%Y%m%d\"))\n",
    "        self.day = self.datetime.strftime(\"%A\").lower()\n",
    "        self.calender = BusDay.df[BusDay.df.start_date <= self.numtime]\n",
    "        self.calender = self.calender[self.calender.end_date >= self.numtime]\n",
    "        self.calender = self.calender[self.calender[self.day] == 1]\n",
    "        self.service_ids = list(self.calender['service_id'])\n",
    "    "
   ]
  },
  {
   "cell_type": "code",
   "execution_count": null,
   "metadata": {},
   "outputs": [],
   "source": [
    "bd = BusDay(datetime(2020, 2, 21))\n",
    "bd.service_ids"
   ]
  },
  {
   "cell_type": "code",
   "execution_count": null,
   "metadata": {},
   "outputs": [],
   "source": [
    "day = datetime(2020, 2, 21).strftime(\"%A\").lower()\n",
    "day"
   ]
  },
  {
   "cell_type": "code",
   "execution_count": null,
   "metadata": {},
   "outputs": [],
   "source": [
    "now = datetime(2020, 2, 21).strftime(\"%Y%m%d\")\n",
    "now = int(now)\n",
    "now"
   ]
  },
  {
   "cell_type": "code",
   "execution_count": null,
   "metadata": {},
   "outputs": [],
   "source": [
    "datetime(2020, 2, 21).strftime(\"%Y%m%d\")"
   ]
  },
  {
   "cell_type": "markdown",
   "metadata": {},
   "source": [
    "## Trips"
   ]
  },
  {
   "cell_type": "code",
   "execution_count": null,
   "metadata": {},
   "outputs": [],
   "source": [
    "with ZipFile('mmt_gtfs.zip') as zf:\n",
    "      with zf.open(\"calendar.txt\") as f:\n",
    "            df = pd.read_csv(f)\n",
    "df.head()"
   ]
  },
  {
   "cell_type": "code",
   "execution_count": null,
   "metadata": {},
   "outputs": [],
   "source": [
    "with ZipFile('mmt_gtfs.zip') as zf:\n",
    "    with zf.open(\"calendar_dates.txt\") as f:\n",
    "        df = pd.read_csv(f)\n",
    "df.head()      "
   ]
  },
  {
   "cell_type": "code",
   "execution_count": null,
   "metadata": {},
   "outputs": [],
   "source": [
    "with ZipFile('mmt_gtfs.zip') as zf:\n",
    "    with zf.open(\"trips.txt\") as f:\n",
    "        df = pd.read_csv(f)"
   ]
  },
  {
   "cell_type": "code",
   "execution_count": null,
   "metadata": {},
   "outputs": [],
   "source": [
    "df.shape"
   ]
  },
  {
   "cell_type": "code",
   "execution_count": null,
   "metadata": {},
   "outputs": [],
   "source": [
    "df.head()"
   ]
  },
  {
   "cell_type": "code",
   "execution_count": null,
   "metadata": {},
   "outputs": [],
   "source": [
    "# df['sele'] = df.service_id.apply(lambda x: True if '88' in x else False) # same function as the last code\n",
    "# df = df[df.sele== True]\n",
    "# df.drop('sele',axis = 1, inplace = True)\n",
    "df[df.service_id.apply(lambda x: True if '88' in x else False)]"
   ]
  },
  {
   "cell_type": "code",
   "execution_count": 80,
   "metadata": {},
   "outputs": [],
   "source": [
    "class BusDay:\n",
    "    with ZipFile('mmt_gtfs.zip') as zf:\n",
    "        with zf.open(\"calendar.txt\") as f:\n",
    "            calen = pd.read_csv(f)\n",
    "    \n",
    "    with ZipFile('mmt_gtfs.zip') as zf:\n",
    "        with zf.open(\"trips.txt\") as f:\n",
    "            trips = pd.read_csv(f)\n",
    "        \n",
    "    def __init__(self, datetime):\n",
    "        self.datetime = datetime\n",
    "        self.numtime = int(self.datetime.strftime(\"%Y%m%d\"))\n",
    "        self.day = self.datetime.strftime(\"%A\").lower()\n",
    "        self.calender = BusDay.calen[BusDay.calen.start_date <= self.numtime]\n",
    "        self.calender = self.calender[self.calender.end_date >= self.numtime]\n",
    "        self.calender = self.calender[self.calender[self.day] == 1]\n",
    "        self.service_ids = list(self.calender['service_id'])\n",
    "    \n",
    "    def get_trips(self, route = None):\n",
    "        self.triptable = BusDay.trips\n",
    "        if route != None:\n",
    "            # self.triptable = self.triptable[self.triptable.service_id.apply(lambda x: True if str(route) in x else False)]\n",
    "            self.triptable = self.triptable[self.triptable.route_short_name == route]\n",
    "        \n",
    "        self.triptable = self.triptable[self.triptable.service_id.isin(self.service_ids)].sort_values(by = 'trip_id', ascending = 1)\n",
    "        self.triptable['bikes_allowed'] = self.triptable['bikes_allowed'].apply(lambda x: True if x==1 else False)\n",
    "        self.triptable = self.triptable[['trip_id', 'route_short_name', 'bikes_allowed']].values.tolist()\n",
    "        def to_Trip_object(item):\n",
    "            trip_id,route_id,bikes_allowed = item\n",
    "            return Trip(trip_id,route_id,bikes_allowed)\n",
    "        \n",
    "        self.triplist = list(map(to_Trip_object,self.triptable))\n",
    "        return self.triplist"
   ]
  },
  {
   "cell_type": "code",
   "execution_count": 81,
   "metadata": {},
   "outputs": [],
   "source": [
    "class Trip:\n",
    "    def __init__(self, trip_id, route_id, bike_allowed):\n",
    "        self.trip_id = trip_id\n",
    "        self.route_id = route_id\n",
    "        self.bike_allowed = bike_allowed\n",
    "        \n",
    "    def __repr__(self):\n",
    "        return \"Trip({}, {}, {})\".format(self.trip_id, self.route_id, self.bike_allowed)\n",
    "    "
   ]
  },
  {
   "cell_type": "code",
   "execution_count": 82,
   "metadata": {},
   "outputs": [
    {
     "data": {
      "text/plain": [
       "['88_SAT', '88_SAT:L', '88_SAT:S']"
      ]
     },
     "execution_count": 82,
     "metadata": {},
     "output_type": "execute_result"
    }
   ],
   "source": [
    "bd = BusDay(datetime(2020, 2, 22))\n",
    "bd.service_ids"
   ]
  },
  {
   "cell_type": "code",
   "execution_count": 83,
   "metadata": {},
   "outputs": [
    {
     "data": {
      "text/plain": [
       "[Trip(910490, 80, True),\n",
       " Trip(910492, 80, True),\n",
       " Trip(910493, 80, True),\n",
       " Trip(910494, 80, True),\n",
       " Trip(910495, 80, True),\n",
       " Trip(910496, 80, True),\n",
       " Trip(910497, 80, True),\n",
       " Trip(910498, 80, True),\n",
       " Trip(910499, 80, True),\n",
       " Trip(910500, 80, True)]"
      ]
     },
     "execution_count": 83,
     "metadata": {},
     "output_type": "execute_result"
    }
   ],
   "source": [
    "bd.get_trips(80)[:10]"
   ]
  },
  {
   "cell_type": "code",
   "execution_count": 84,
   "metadata": {},
   "outputs": [],
   "source": [
    "## improved BusDay\n",
    "class BusDay:\n",
    "    with ZipFile('mmt_gtfs.zip') as zf:\n",
    "        with zf.open(\"calendar.txt\") as f:\n",
    "            calen = pd.read_csv(f)\n",
    "    \n",
    "    with ZipFile('mmt_gtfs.zip') as zf:\n",
    "        with zf.open(\"trips.txt\") as f:\n",
    "            trips = pd.read_csv(f)\n",
    "        \n",
    "    def __init__(self, datetime):\n",
    "        self.datetime = datetime\n",
    "        self.numtime = int(self.datetime.strftime(\"%Y%m%d\"))\n",
    "        self.day = self.datetime.strftime(\"%A\").lower()\n",
    "        self.calender = BusDay.calen[BusDay.calen.start_date <= self.numtime]\n",
    "        self.calender = self.calender[self.calender.end_date >= self.numtime]\n",
    "        self.calender = self.calender[self.calender[self.day] == 1]\n",
    "        self.service_ids = list(self.calender['service_id'])\n",
    "        \n",
    "        self.triptable = BusDay.trips\n",
    "        self.triptable = self.triptable[self.triptable.service_id.isin(self.service_ids)].sort_values(by = 'trip_id', ascending = 1)\n",
    "\n",
    "    \n",
    "    def get_trips(self, route = None):\n",
    "        # self.triptable = BusDay.trips\n",
    "        if route != None:\n",
    "            # self.triptable = self.triptable[self.triptable.service_id.apply(lambda x: True if str(route) in x else False)]\n",
    "            self.triptable2 = self.triptable[self.triptable.route_short_name == route]\n",
    "        \n",
    "        self.triptable2['bikes_allowed'] = self.triptable2['bikes_allowed'].apply(lambda x: True if x==1 else False)\n",
    "        self.triptable2 = self.triptable2[['trip_id', 'route_short_name', 'bikes_allowed']].values.tolist()\n",
    "        def to_Trip_object(item):\n",
    "            trip_id,route_id,bikes_allowed = item\n",
    "            return Trip(trip_id,route_id,bikes_allowed)\n",
    "        \n",
    "        self.triplist = list(map(to_Trip_object,self.triptable2))\n",
    "        return self.triplist\n"
   ]
  },
  {
   "cell_type": "code",
   "execution_count": 85,
   "metadata": {},
   "outputs": [],
   "source": [
    "class Trip:\n",
    "    def __init__(self, trip_id, route_id, bike_allowed):\n",
    "        self.trip_id = trip_id\n",
    "        self.route_id = route_id\n",
    "        self.bike_allowed = bike_allowed\n",
    "        \n",
    "    def __repr__(self):\n",
    "        return \"Trip({}, {}, {})\".format(self.trip_id, self.route_id, self.bike_allowed)\n",
    "  "
   ]
  },
  {
   "cell_type": "code",
   "execution_count": 86,
   "metadata": {},
   "outputs": [
    {
     "data": {
      "text/plain": [
       "['88_SAT', '88_SAT:L', '88_SAT:S']"
      ]
     },
     "execution_count": 86,
     "metadata": {},
     "output_type": "execute_result"
    }
   ],
   "source": [
    "bd = BusDay(datetime(2020, 2, 22))\n",
    "bd.service_ids"
   ]
  },
  {
   "cell_type": "code",
   "execution_count": 87,
   "metadata": {},
   "outputs": [
    {
     "name": "stderr",
     "output_type": "stream",
     "text": [
      "/Users/zyxu/opt/anaconda3/lib/python3.7/site-packages/ipykernel_launcher.py:30: SettingWithCopyWarning: \n",
      "A value is trying to be set on a copy of a slice from a DataFrame.\n",
      "Try using .loc[row_indexer,col_indexer] = value instead\n",
      "\n",
      "See the caveats in the documentation: http://pandas.pydata.org/pandas-docs/stable/user_guide/indexing.html#returning-a-view-versus-a-copy\n"
     ]
    },
    {
     "data": {
      "text/plain": [
       "[Trip(910490, 80, True),\n",
       " Trip(910492, 80, True),\n",
       " Trip(910493, 80, True),\n",
       " Trip(910494, 80, True),\n",
       " Trip(910495, 80, True),\n",
       " Trip(910496, 80, True),\n",
       " Trip(910497, 80, True),\n",
       " Trip(910498, 80, True),\n",
       " Trip(910499, 80, True),\n",
       " Trip(910500, 80, True)]"
      ]
     },
     "execution_count": 87,
     "metadata": {},
     "output_type": "execute_result"
    }
   ],
   "source": [
    "bd.get_trips(80)[:10] # run second time wrong!!!"
   ]
  },
  {
   "cell_type": "code",
   "execution_count": 88,
   "metadata": {},
   "outputs": [
    {
     "ename": "NameError",
     "evalue": "name 'c' is not defined",
     "output_type": "error",
     "traceback": [
      "\u001b[0;31m---------------------------------------------------------------------------\u001b[0m",
      "\u001b[0;31mNameError\u001b[0m                                 Traceback (most recent call last)",
      "\u001b[0;32m<ipython-input-88-31a5d2327440>\u001b[0m in \u001b[0;36m<module>\u001b[0;34m\u001b[0m\n\u001b[1;32m      2\u001b[0m     \u001b[0mtrip_id\u001b[0m\u001b[0;34m,\u001b[0m\u001b[0mroute_id\u001b[0m\u001b[0;34m,\u001b[0m\u001b[0mbikes_allowed\u001b[0m \u001b[0;34m=\u001b[0m \u001b[0mitem\u001b[0m\u001b[0;34m\u001b[0m\u001b[0;34m\u001b[0m\u001b[0m\n\u001b[1;32m      3\u001b[0m     \u001b[0;32mreturn\u001b[0m \u001b[0mtrip\u001b[0m\u001b[0;34m(\u001b[0m\u001b[0mtrip_id\u001b[0m\u001b[0;34m,\u001b[0m\u001b[0mroute_id\u001b[0m\u001b[0;34m,\u001b[0m\u001b[0mbikes_allowed\u001b[0m\u001b[0;34m)\u001b[0m\u001b[0;34m\u001b[0m\u001b[0;34m\u001b[0m\u001b[0m\n\u001b[0;32m----> 4\u001b[0;31m \u001b[0mlist\u001b[0m\u001b[0;34m(\u001b[0m\u001b[0mmap\u001b[0m\u001b[0;34m(\u001b[0m\u001b[0mto_trip_object\u001b[0m\u001b[0;34m,\u001b[0m\u001b[0mc\u001b[0m\u001b[0;34m)\u001b[0m\u001b[0;34m)\u001b[0m\u001b[0;34m\u001b[0m\u001b[0;34m\u001b[0m\u001b[0m\n\u001b[0m",
      "\u001b[0;31mNameError\u001b[0m: name 'c' is not defined"
     ]
    }
   ],
   "source": [
    "def to_trip_object(item):\n",
    "    trip_id,route_id,bikes_allowed = item\n",
    "    return trip(trip_id,route_id,bikes_allowed)\n",
    "list(map(to_trip_object,c))"
   ]
  },
  {
   "cell_type": "code",
   "execution_count": null,
   "metadata": {},
   "outputs": [],
   "source": []
  },
  {
   "cell_type": "code",
   "execution_count": null,
   "metadata": {},
   "outputs": [],
   "source": []
  },
  {
   "cell_type": "code",
   "execution_count": null,
   "metadata": {},
   "outputs": [],
   "source": []
  },
  {
   "cell_type": "markdown",
   "metadata": {},
   "source": [
    "## Stops"
   ]
  },
  {
   "cell_type": "code",
   "execution_count": 89,
   "metadata": {},
   "outputs": [
    {
     "data": {
      "text/html": [
       "<div>\n",
       "<style scoped>\n",
       "    .dataframe tbody tr th:only-of-type {\n",
       "        vertical-align: middle;\n",
       "    }\n",
       "\n",
       "    .dataframe tbody tr th {\n",
       "        vertical-align: top;\n",
       "    }\n",
       "\n",
       "    .dataframe thead th {\n",
       "        text-align: right;\n",
       "    }\n",
       "</style>\n",
       "<table border=\"1\" class=\"dataframe\">\n",
       "  <thead>\n",
       "    <tr style=\"text-align: right;\">\n",
       "      <th></th>\n",
       "      <th>trip_id</th>\n",
       "      <th>stop_sequence</th>\n",
       "      <th>stop_id</th>\n",
       "      <th>pickup_type</th>\n",
       "      <th>drop_off_type</th>\n",
       "      <th>arrival_time</th>\n",
       "      <th>departure_time</th>\n",
       "      <th>timepoint</th>\n",
       "      <th>stop_headsign</th>\n",
       "      <th>shape_dist_traveled</th>\n",
       "    </tr>\n",
       "  </thead>\n",
       "  <tbody>\n",
       "    <tr>\n",
       "      <td>0</td>\n",
       "      <td>904927</td>\n",
       "      <td>1</td>\n",
       "      <td>2561</td>\n",
       "      <td>0</td>\n",
       "      <td>1</td>\n",
       "      <td>9:56:00</td>\n",
       "      <td>9:56:00</td>\n",
       "      <td>1</td>\n",
       "      <td>CAPITOL SQUARE</td>\n",
       "      <td>0.0210</td>\n",
       "    </tr>\n",
       "    <tr>\n",
       "      <td>1</td>\n",
       "      <td>904927</td>\n",
       "      <td>2</td>\n",
       "      <td>2605</td>\n",
       "      <td>0</td>\n",
       "      <td>0</td>\n",
       "      <td>9:56:55</td>\n",
       "      <td>9:56:55</td>\n",
       "      <td>0</td>\n",
       "      <td>CAPITOL SQUARE</td>\n",
       "      <td>0.1979</td>\n",
       "    </tr>\n",
       "    <tr>\n",
       "      <td>2</td>\n",
       "      <td>904927</td>\n",
       "      <td>3</td>\n",
       "      <td>2717</td>\n",
       "      <td>0</td>\n",
       "      <td>0</td>\n",
       "      <td>9:57:51</td>\n",
       "      <td>9:57:51</td>\n",
       "      <td>0</td>\n",
       "      <td>CAPITOL SQUARE</td>\n",
       "      <td>0.3775</td>\n",
       "    </tr>\n",
       "    <tr>\n",
       "      <td>3</td>\n",
       "      <td>904927</td>\n",
       "      <td>4</td>\n",
       "      <td>2921</td>\n",
       "      <td>0</td>\n",
       "      <td>0</td>\n",
       "      <td>9:58:51</td>\n",
       "      <td>9:58:51</td>\n",
       "      <td>0</td>\n",
       "      <td>CAPITOL SQUARE</td>\n",
       "      <td>0.5692</td>\n",
       "    </tr>\n",
       "    <tr>\n",
       "      <td>4</td>\n",
       "      <td>904927</td>\n",
       "      <td>5</td>\n",
       "      <td>133</td>\n",
       "      <td>0</td>\n",
       "      <td>0</td>\n",
       "      <td>10:00:00</td>\n",
       "      <td>10:00:00</td>\n",
       "      <td>1</td>\n",
       "      <td>CAPITOL SQUARE</td>\n",
       "      <td>0.7875</td>\n",
       "    </tr>\n",
       "  </tbody>\n",
       "</table>\n",
       "</div>"
      ],
      "text/plain": [
       "   trip_id  stop_sequence  stop_id  pickup_type  drop_off_type arrival_time  \\\n",
       "0   904927              1     2561            0              1      9:56:00   \n",
       "1   904927              2     2605            0              0      9:56:55   \n",
       "2   904927              3     2717            0              0      9:57:51   \n",
       "3   904927              4     2921            0              0      9:58:51   \n",
       "4   904927              5      133            0              0     10:00:00   \n",
       "\n",
       "  departure_time  timepoint   stop_headsign  shape_dist_traveled  \n",
       "0        9:56:00          1  CAPITOL SQUARE               0.0210  \n",
       "1        9:56:55          0  CAPITOL SQUARE               0.1979  \n",
       "2        9:57:51          0  CAPITOL SQUARE               0.3775  \n",
       "3        9:58:51          0  CAPITOL SQUARE               0.5692  \n",
       "4       10:00:00          1  CAPITOL SQUARE               0.7875  "
      ]
     },
     "execution_count": 89,
     "metadata": {},
     "output_type": "execute_result"
    }
   ],
   "source": [
    "with ZipFile('mmt_gtfs.zip') as zf:\n",
    "    with zf.open(\"stop_times.txt\") as f:\n",
    "        stoptime = pd.read_csv(f)\n",
    "stoptime.head()"
   ]
  },
  {
   "cell_type": "code",
   "execution_count": 90,
   "metadata": {},
   "outputs": [
    {
     "data": {
      "text/plain": [
       "(533350, 10)"
      ]
     },
     "execution_count": 90,
     "metadata": {},
     "output_type": "execute_result"
    }
   ],
   "source": [
    "stoptime.shape"
   ]
  },
  {
   "cell_type": "code",
   "execution_count": 91,
   "metadata": {},
   "outputs": [
    {
     "data": {
      "text/html": [
       "<div>\n",
       "<style scoped>\n",
       "    .dataframe tbody tr th:only-of-type {\n",
       "        vertical-align: middle;\n",
       "    }\n",
       "\n",
       "    .dataframe tbody tr th {\n",
       "        vertical-align: top;\n",
       "    }\n",
       "\n",
       "    .dataframe thead th {\n",
       "        text-align: right;\n",
       "    }\n",
       "</style>\n",
       "<table border=\"1\" class=\"dataframe\">\n",
       "  <thead>\n",
       "    <tr style=\"text-align: right;\">\n",
       "      <th></th>\n",
       "      <th>stop_id</th>\n",
       "      <th>stop_code</th>\n",
       "      <th>stop_name</th>\n",
       "      <th>stop_desc</th>\n",
       "      <th>stop_lat</th>\n",
       "      <th>stop_lon</th>\n",
       "      <th>agency_id</th>\n",
       "      <th>jurisdiction_id</th>\n",
       "      <th>location_type</th>\n",
       "      <th>parent_station</th>\n",
       "      <th>relative_position</th>\n",
       "      <th>cardinal_direction</th>\n",
       "      <th>wheelchair_boarding</th>\n",
       "      <th>primary_street</th>\n",
       "      <th>address_range</th>\n",
       "      <th>cross_location</th>\n",
       "    </tr>\n",
       "  </thead>\n",
       "  <tbody>\n",
       "    <tr>\n",
       "      <td>0</td>\n",
       "      <td>1110</td>\n",
       "      <td>1110</td>\n",
       "      <td>E Dayton &amp; Wisconsin (WB)</td>\n",
       "      <td>This EVENT/DETOUR ONLY stop (#1110) is westbou...</td>\n",
       "      <td>43.076428</td>\n",
       "      <td>-89.385920</td>\n",
       "      <td>MMT</td>\n",
       "      <td>CMAD</td>\n",
       "      <td>0</td>\n",
       "      <td>NaN</td>\n",
       "      <td>3</td>\n",
       "      <td>270.0</td>\n",
       "      <td>1</td>\n",
       "      <td>E Dayton</td>\n",
       "      <td>2</td>\n",
       "      <td>Wisconsin</td>\n",
       "    </tr>\n",
       "    <tr>\n",
       "      <td>1</td>\n",
       "      <td>1111</td>\n",
       "      <td>1111</td>\n",
       "      <td>W Doty &amp; M L K Junior (EB)</td>\n",
       "      <td>This EVENT/DETOUR ONLY stop (#1111) is eastbou...</td>\n",
       "      <td>43.072938</td>\n",
       "      <td>-89.382354</td>\n",
       "      <td>MMT</td>\n",
       "      <td>CMAD</td>\n",
       "      <td>0</td>\n",
       "      <td>NaN</td>\n",
       "      <td>3</td>\n",
       "      <td>90.0</td>\n",
       "      <td>1</td>\n",
       "      <td>W Doty</td>\n",
       "      <td>1</td>\n",
       "      <td>M L K Junior</td>\n",
       "    </tr>\n",
       "    <tr>\n",
       "      <td>2</td>\n",
       "      <td>1124</td>\n",
       "      <td>1124</td>\n",
       "      <td>S Fairchild &amp; W Main (SB)</td>\n",
       "      <td>This EVENT/DETOUR ONLY stop (#1124) is southbo...</td>\n",
       "      <td>43.072467</td>\n",
       "      <td>-89.385273</td>\n",
       "      <td>MMT</td>\n",
       "      <td>CMAD</td>\n",
       "      <td>0</td>\n",
       "      <td>NaN</td>\n",
       "      <td>3</td>\n",
       "      <td>180.0</td>\n",
       "      <td>1</td>\n",
       "      <td>S Fairchild</td>\n",
       "      <td>98</td>\n",
       "      <td>W Main</td>\n",
       "    </tr>\n",
       "    <tr>\n",
       "      <td>3</td>\n",
       "      <td>1135</td>\n",
       "      <td>1135</td>\n",
       "      <td>N Webster &amp; E Mifflin (NB)</td>\n",
       "      <td>This EVENT/DETOUR ONLY stop (#1135) is northbo...</td>\n",
       "      <td>43.077272</td>\n",
       "      <td>-89.383413</td>\n",
       "      <td>MMT</td>\n",
       "      <td>CMAD</td>\n",
       "      <td>0</td>\n",
       "      <td>NaN</td>\n",
       "      <td>1</td>\n",
       "      <td>0.0</td>\n",
       "      <td>1</td>\n",
       "      <td>N Webster</td>\n",
       "      <td>101</td>\n",
       "      <td>E Mifflin</td>\n",
       "    </tr>\n",
       "    <tr>\n",
       "      <td>4</td>\n",
       "      <td>1140</td>\n",
       "      <td>1140</td>\n",
       "      <td>E Washington &amp; N Webster (WB)</td>\n",
       "      <td>This EVENT/DETOUR ONLY stop (#1140) is westbou...</td>\n",
       "      <td>43.076390</td>\n",
       "      <td>-89.381930</td>\n",
       "      <td>MMT</td>\n",
       "      <td>CMAD</td>\n",
       "      <td>0</td>\n",
       "      <td>NaN</td>\n",
       "      <td>3</td>\n",
       "      <td>270.0</td>\n",
       "      <td>1</td>\n",
       "      <td>E Washington</td>\n",
       "      <td>200</td>\n",
       "      <td>N Webster</td>\n",
       "    </tr>\n",
       "  </tbody>\n",
       "</table>\n",
       "</div>"
      ],
      "text/plain": [
       "   stop_id stop_code                      stop_name  \\\n",
       "0     1110      1110      E Dayton & Wisconsin (WB)   \n",
       "1     1111      1111     W Doty & M L K Junior (EB)   \n",
       "2     1124      1124      S Fairchild & W Main (SB)   \n",
       "3     1135      1135     N Webster & E Mifflin (NB)   \n",
       "4     1140      1140  E Washington & N Webster (WB)   \n",
       "\n",
       "                                           stop_desc   stop_lat   stop_lon  \\\n",
       "0  This EVENT/DETOUR ONLY stop (#1110) is westbou...  43.076428 -89.385920   \n",
       "1  This EVENT/DETOUR ONLY stop (#1111) is eastbou...  43.072938 -89.382354   \n",
       "2  This EVENT/DETOUR ONLY stop (#1124) is southbo...  43.072467 -89.385273   \n",
       "3  This EVENT/DETOUR ONLY stop (#1135) is northbo...  43.077272 -89.383413   \n",
       "4  This EVENT/DETOUR ONLY stop (#1140) is westbou...  43.076390 -89.381930   \n",
       "\n",
       "  agency_id jurisdiction_id  location_type  parent_station  relative_position  \\\n",
       "0       MMT            CMAD              0             NaN                  3   \n",
       "1       MMT            CMAD              0             NaN                  3   \n",
       "2       MMT            CMAD              0             NaN                  3   \n",
       "3       MMT            CMAD              0             NaN                  1   \n",
       "4       MMT            CMAD              0             NaN                  3   \n",
       "\n",
       "   cardinal_direction  wheelchair_boarding primary_street  address_range  \\\n",
       "0               270.0                    1       E Dayton              2   \n",
       "1                90.0                    1         W Doty              1   \n",
       "2               180.0                    1    S Fairchild             98   \n",
       "3                 0.0                    1      N Webster            101   \n",
       "4               270.0                    1   E Washington            200   \n",
       "\n",
       "  cross_location  \n",
       "0      Wisconsin  \n",
       "1   M L K Junior  \n",
       "2         W Main  \n",
       "3      E Mifflin  \n",
       "4      N Webster  "
      ]
     },
     "execution_count": 91,
     "metadata": {},
     "output_type": "execute_result"
    }
   ],
   "source": [
    "with ZipFile('mmt_gtfs.zip') as zf:\n",
    "    with zf.open(\"stops.txt\") as f:\n",
    "        stops = pd.read_csv(f)\n",
    "stops.head()"
   ]
  },
  {
   "cell_type": "code",
   "execution_count": 92,
   "metadata": {},
   "outputs": [],
   "source": [
    "class BusDay:\n",
    "    with ZipFile('mmt_gtfs.zip') as zf:\n",
    "        with zf.open(\"calendar.txt\") as f:\n",
    "            calen = pd.read_csv(f)\n",
    "        with zf.open(\"trips.txt\") as f:\n",
    "            trips = pd.read_csv(f)\n",
    "        with zf.open(\"stop_times.txt\") as f:\n",
    "            stoptimes = pd.read_csv(f)\n",
    "        with zf.open(\"stops.txt\") as f:\n",
    "            stops = pd.read_csv(f)  \n",
    "        \n",
    "    def __init__(self, datetime):\n",
    "        self.datetime = datetime\n",
    "        self.numtime = int(self.datetime.strftime(\"%Y%m%d\"))\n",
    "        self.day = self.datetime.strftime(\"%A\").lower()\n",
    "        self.calender = BusDay.calen[BusDay.calen.start_date <= self.numtime]\n",
    "        self.calender = self.calender[self.calender.end_date >= self.numtime]\n",
    "        self.calender = self.calender[self.calender[self.day] == 1]\n",
    "        self.service_ids = list(self.calender['service_id'])\n",
    "        \n",
    "        self.triptable = BusDay.trips\n",
    "        self.triptable = self.triptable[self.triptable.service_id.isin(self.service_ids)].sort_values(by = 'trip_id', ascending = 1)\n",
    "        \n",
    "        self.trip_id = self.triptable.trip_id\n",
    "        self.stoptable = BusDay.stoptimes  ## stoptimes\n",
    "        self.stoptable = self.stoptable[self.stoptable.trip_id.isin(self.trip_id)].sort_values(by = 'stop_id', ascending = 1) ## table of stoptimes\n",
    "        \n",
    "        self.stop_id = self.stoptable.stop_id\n",
    "        self.stops = BusDay.stops ## info of stops location, no time/trip\n",
    "        self.stops = self.stops[self.stops.stop_id.isin(self.stop_id)].sort_values(by = 'stop_id', ascending = 1)\n",
    "        self.stops.loc[:,'wheelchair_boarding'] = self.stops['wheelchair_boarding'].apply(lambda x: True if x==1 else False)\n",
    "    \n",
    "    def get_trips(self, route = None):\n",
    "        # self.triptable = BusDay.trips\n",
    "        if route != None:\n",
    "            # self.triptable = self.triptable[self.triptable.service_id.apply(lambda x: True if str(route) in x else False)]\n",
    "            self.triptable2 = self.triptable[self.triptable.route_short_name == route]\n",
    "        else:\n",
    "            self.triptable2 = self.triptable\n",
    "        \n",
    "        self.triptable2.loc[:,'bikes_allowed'] = self.triptable2['bikes_allowed'].apply(lambda x: True if x==1 else False)\n",
    "        self.triptable2 = self.triptable2[['trip_id', 'route_short_name', 'bikes_allowed']].values.tolist()\n",
    "        def to_Trip_object(item):\n",
    "            trip_id,route_id,bikes_allowed = item\n",
    "            return Trip(trip_id,route_id,bikes_allowed)\n",
    "        \n",
    "        self.triplist = list(map(to_Trip_object,self.triptable2))\n",
    "        return self.triplist\n",
    "    \n",
    "    def get_stops(self):\n",
    "        self.stops2 = self.stops[['stop_id', 'stop_lat', 'stop_lon', 'wheelchair_boarding']].values.tolist()\n",
    "        def to_Stop_object(item):\n",
    "            stop_id, stop_lat, stop_lon, wheelchair_boarding = item\n",
    "            Location_object = Location(latlon = (stop_lat, stop_lon))\n",
    "            return Stop(stop_id,Location_object,wheelchair_boarding)\n",
    "        self.stopslist = list(map(to_Stop_object, self.stops2))\n",
    "        return self.stopslist"
   ]
  },
  {
   "cell_type": "code",
   "execution_count": 93,
   "metadata": {},
   "outputs": [],
   "source": [
    "class Stop:\n",
    "    def __init__(self, stop_id, location_object, wheelchair_boarding):\n",
    "        self.stop_id = stop_id\n",
    "        self.location_object = location_object\n",
    "        self.wheelchair_boarding = wheelchair_boarding\n",
    "    def __repr__(self):\n",
    "        return \"Stop({}, {}, {})\".format(self.stop_id, self.location_object, self.wheelchair_boarding)"
   ]
  },
  {
   "cell_type": "code",
   "execution_count": 94,
   "metadata": {},
   "outputs": [
    {
     "data": {
      "text/plain": [
       "['88_SAT', '88_SAT:L', '88_SAT:S']"
      ]
     },
     "execution_count": 94,
     "metadata": {},
     "output_type": "execute_result"
    }
   ],
   "source": [
    "bd = BusDay(datetime(2020, 2, 22))\n",
    "bd.service_ids"
   ]
  },
  {
   "cell_type": "code",
   "execution_count": 95,
   "metadata": {},
   "outputs": [
    {
     "data": {
      "text/plain": [
       "[Stop(5, Location(xy=(-1.15, -0.26)), True),\n",
       " Stop(10, Location(xy=(-0.80, 0.09)), True),\n",
       " Stop(25, Location(xy=(-0.64, 0.07)), True),\n",
       " Stop(39, Location(xy=(-0.66, -0.19)), True),\n",
       " Stop(45, Location(xy=(-0.28, 0.26)), True),\n",
       " Stop(49, Location(xy=(-0.65, 0.06)), True),\n",
       " Stop(52, Location(xy=(-1.08, 0.10)), True),\n",
       " Stop(53, Location(xy=(-0.99, 0.08)), True),\n",
       " Stop(56, Location(xy=(-1.15, 0.14)), True),\n",
       " Stop(60, Location(xy=(-0.98, 0.09)), True)]"
      ]
     },
     "execution_count": 95,
     "metadata": {},
     "output_type": "execute_result"
    }
   ],
   "source": [
    "bd.get_stops()[:10]"
   ]
  },
  {
   "cell_type": "code",
   "execution_count": 96,
   "metadata": {},
   "outputs": [
    {
     "data": {
      "text/plain": [
       "[Stop(5, Location(xy=(-1.15, -0.26)), True),\n",
       " Stop(10, Location(xy=(-0.80, 0.09)), True),\n",
       " Stop(25, Location(xy=(-0.64, 0.07)), True),\n",
       " Stop(39, Location(xy=(-0.66, -0.19)), True),\n",
       " Stop(45, Location(xy=(-0.28, 0.26)), True),\n",
       " Stop(49, Location(xy=(-0.65, 0.06)), True),\n",
       " Stop(52, Location(xy=(-1.08, 0.10)), True),\n",
       " Stop(53, Location(xy=(-0.99, 0.08)), True),\n",
       " Stop(56, Location(xy=(-1.15, 0.14)), True),\n",
       " Stop(60, Location(xy=(-0.98, 0.09)), True)]"
      ]
     },
     "execution_count": 96,
     "metadata": {},
     "output_type": "execute_result"
    }
   ],
   "source": [
    "te = bd.get_stops()[:10]\n",
    "te"
   ]
  },
  {
   "cell_type": "code",
   "execution_count": null,
   "metadata": {},
   "outputs": [],
   "source": [
    "class BST:\n",
    "    def __init__(self, stop_total):\n",
    "        self.nodes = {}\n",
    "    \n",
    "    def _split(self, levels = 6, stop_list):\n",
    "        self.levels = levels\n",
    "        self.ver_split *= -1\n",
    "        if self.edges >= 6:\n",
    "            self.node = Node(stop_list)\n",
    "        else:\n",
    "            if self.ver_split = 1:\n",
    "                self.node.val.sort(lambda stop_obj: stop_obj.location_object.x)\n",
    "            else:\n",
    "                self.node.val.sort(lambda stop_obj: stop_obj.location_object.y)\n",
    "            \n",
    "            self._split(levels, self.node.val[:len(self.root.val)//2])\n",
    "            self._split(levels, self.node.val[len(self.root.val)//2:])\n",
    "        \n",
    "            \n",
    "            \n",
    "                \n",
    "                \n",
    "\n",
    "class Node:\n",
    "    def __init__(self, stop_list):\n",
    "        self.val = stoplist\n",
    "        self.left = None\n",
    "        self.right = None\n",
    "        "
   ]
  },
  {
   "cell_type": "code",
   "execution_count": null,
   "metadata": {},
   "outputs": [],
   "source": [
    "class BST:\n",
    "    def __init__(self, stop_total):\n",
    "        self.nodes = {}\n",
    "    \n",
    "    \n",
    "            \n",
    "                \n",
    "                \n",
    "\n",
    "class Node:\n",
    "    def __init__(self, stop_list, ver_split = 1, levels = 0):\n",
    "        self.ver_split = ver_split\n",
    "        self.levels = levels\n",
    "        \n",
    "        self.val = stop_list\n",
    "        \n",
    "        if self.ver_split = 1:\n",
    "                self.val.sort(lambda stop_obj: stop_obj.location_object.x)\n",
    "            else:\n",
    "                self.val.sort(lambda stop_obj: stop_obj.location_object.y)\n",
    "        if levels >= 5:\n",
    "            self.left = Node(self.val[:len(self.root.val)//2], -ver_split, levels + 1)\n",
    "            self.right = Node(self.root.val[len(self.root.val)//2:])   \n",
    "        else:\n",
    "            \n",
    "            \n",
    "            \n",
    "            \n",
    "        "
   ]
  },
  {
   "cell_type": "code",
   "execution_count": 186,
   "metadata": {},
   "outputs": [],
   "source": [
    "class BusDay:\n",
    "    with ZipFile('mmt_gtfs.zip') as zf:\n",
    "        with zf.open(\"calendar.txt\") as f:\n",
    "            calen = pd.read_csv(f)\n",
    "        with zf.open(\"trips.txt\") as f:\n",
    "            trips = pd.read_csv(f)\n",
    "        with zf.open(\"stop_times.txt\") as f:\n",
    "            stoptimes = pd.read_csv(f)\n",
    "        with zf.open(\"stops.txt\") as f:\n",
    "            stops = pd.read_csv(f)  \n",
    "        \n",
    "    def __init__(self, datetime):\n",
    "        self.datetime = datetime\n",
    "        self.numtime = int(self.datetime.strftime(\"%Y%m%d\"))\n",
    "        self.day = self.datetime.strftime(\"%A\").lower()\n",
    "        self.calender = BusDay.calen[BusDay.calen.start_date <= self.numtime]\n",
    "        self.calender = self.calender[self.calender.end_date >= self.numtime]\n",
    "        self.calender = self.calender[self.calender[self.day] == 1]\n",
    "        self.service_ids = list(self.calender['service_id'])\n",
    "        \n",
    "        self.triptable = BusDay.trips\n",
    "        self.triptable = self.triptable[self.triptable.service_id.isin(self.service_ids)].sort_values(by = 'trip_id', ascending = 1)\n",
    "        \n",
    "        self.trip_id = self.triptable.trip_id\n",
    "        self.stoptable = BusDay.stoptimes  ## stoptimes\n",
    "        self.stoptable = self.stoptable[self.stoptable.trip_id.isin(self.trip_id)].sort_values(by = 'stop_id', ascending = 1) ## table of stoptimes\n",
    "        \n",
    "        self.stop_id = self.stoptable.stop_id\n",
    "        self.stops = BusDay.stops ## info of stops location, no time/trip\n",
    "        self.stops = self.stops[self.stops.stop_id.isin(self.stop_id)].sort_values(by = 'stop_id', ascending = 1)\n",
    "        self.stops.loc[:,'wheelchair_boarding'] = self.stops['wheelchair_boarding'].apply(lambda x: True if x==1 else False)\n",
    "        \n",
    "    \n",
    "    def get_trips(self, route = None):\n",
    "        # self.triptable = BusDay.trips\n",
    "        if route != None:\n",
    "            # self.triptable = self.triptable[self.triptable.service_id.apply(lambda x: True if str(route) in x else False)]\n",
    "            self.triptable2 = self.triptable[self.triptable.route_short_name == route]\n",
    "        else:\n",
    "            self.triptable2 = self.triptable\n",
    "        \n",
    "        self.triptable2.loc[:,'bikes_allowed'] = self.triptable2['bikes_allowed'].apply(lambda x: True if x==1 else False)\n",
    "        self.triptable2 = self.triptable2[['trip_id', 'route_short_name', 'bikes_allowed']].values.tolist()\n",
    "        def to_Trip_object(item):\n",
    "            trip_id,route_id,bikes_allowed = item\n",
    "            return Trip(trip_id,route_id,bikes_allowed)\n",
    "        \n",
    "        self.triplist = list(map(to_Trip_object,self.triptable2))\n",
    "        return self.triplist\n",
    "    \n",
    "    def get_stops(self):\n",
    "        self.stops2 = self.stops[['stop_id', 'stop_lat', 'stop_lon', 'wheelchair_boarding']].values.tolist()\n",
    "        def to_Stop_object(item):\n",
    "            stop_id, stop_lat, stop_lon, wheelchair_boarding = item\n",
    "            Location_object = Location(latlon = (stop_lat, stop_lon))\n",
    "            return Stop(stop_id,Location_object,wheelchair_boarding)\n",
    "        self.stopslist = list(map(to_Stop_object, self.stops2))\n",
    "        return self.stopslist\n",
    "    \n",
    "    def get_stops_rect(self, xlim, ylim):\n",
    "        stops = self.get_stops()\n",
    "        BSTree = Node(stops)\n",
    "        return BSTree.range_search(xlim, ylim)\n",
    "        \n",
    "    def get_stops_circ(self, loc, radius):\n",
    "        stops = self.get_stops()\n",
    "        BSTree = Node(stops)\n",
    "        xlim = (loc[0] - radius, loc[0] + radius)\n",
    "        ylim = (loc[1] - radius, loc[1] + radius)\n",
    "        rec = BSTree.range_search(xlim, ylim)\n",
    "        center = Location(xy = loc)\n",
    "        return [stop for stop in rec if center.dist(stop.location_object) <= radius]\n"
   ]
  },
  {
   "cell_type": "code",
   "execution_count": 187,
   "metadata": {},
   "outputs": [],
   "source": [
    "from graphviz import Graph, Digraph\n",
    "class Node:\n",
    "    def __init__(self, stop_list, ver_split = 1, levels = 0): \n",
    "        self.left = None\n",
    "        self.right = None\n",
    "        self.ver_split = ver_split\n",
    "        self.leaf = True   ## added for draw_tree\n",
    "        if ver_split == 1:\n",
    "            stop_list.sort(key = lambda stop_obj: stop_obj.location_object.x)\n",
    "            self.split_val = stop_list[len(stop_list)//2].location_object.x\n",
    "        else:\n",
    "            stop_list.sort(key = lambda stop_obj: stop_obj.location_object.y)\n",
    "            self.split_val = stop_list[len(stop_list)//2].location_object.y\n",
    "        if levels <= 2:\n",
    "            #print(stop_list[:len(stop_list)//2],len(stop_list)//2)\n",
    "            self.left = Node(stop_list[:len(stop_list)//2],  -ver_split, levels + 1)\n",
    "            self.right = Node(stop_list[len(stop_list)//2:],  -ver_split, levels + 1)\n",
    "            self.leaf = False\n",
    "        \n",
    "            \n",
    "        self.val = stop_list\n",
    "        \n",
    "    def to_graphviz(self, g=None):\n",
    "        if g == None:\n",
    "            g = Digraph()\n",
    "            \n",
    "        # draw self\n",
    "        g.node(repr(self.val))\n",
    "    \n",
    "        for label, child in [(\"L\", self.left), (\"R\", self.right)]:\n",
    "            if child != None:\n",
    "                # draw child, recursively\n",
    "                child.to_graphviz(g)\n",
    "                \n",
    "                # draw edge from self to child\n",
    "                g.edge(repr(self.val), repr(child.val), label=label)\n",
    "        return g\n",
    "    \n",
    "    def _repr_svg_(self):\n",
    "        return self.to_graphviz()._repr_svg_()\n",
    "    \n",
    "    def range_search(self, xlim, ylim, results=None):\n",
    "        if results == None:\n",
    "            results = []\n",
    "\n",
    "        if self.left == None and self.right == None:\n",
    "            for obj in self.val:\n",
    "                if xlim[0] <= obj.location_object.x <= xlim[1] and ylim[0] <= obj.location_object.y <= ylim[1]:\n",
    "                    results.append(obj)\n",
    "        else:\n",
    "            lim = xlim if self.ver_split == 1 else ylim\n",
    "            if lim[0] <= self.split_val:\n",
    "                self.left.range_search(xlim, ylim, results)\n",
    "            if lim[1] >= self.split_val:\n",
    "                self.right.range_search(xlim, ylim, results)\n",
    "        return results\n"
   ]
  },
  {
   "cell_type": "code",
   "execution_count": 188,
   "metadata": {},
   "outputs": [],
   "source": [
    "no = Node(te)"
   ]
  },
  {
   "cell_type": "code",
   "execution_count": 189,
   "metadata": {},
   "outputs": [
    {
     "data": {
      "image/svg+xml": [
       "<?xml version=\"1.0\" encoding=\"UTF-8\" standalone=\"no\"?>\n",
       "<!DOCTYPE svg PUBLIC \"-//W3C//DTD SVG 1.1//EN\"\n",
       " \"http://www.w3.org/Graphics/SVG/1.1/DTD/svg11.dtd\">\n",
       "<!-- Generated by graphviz version 2.44.0 (20200408.0750)\n",
       " -->\n",
       "<!-- Pages: 1 -->\n",
       "<svg width=\"3858pt\" height=\"305pt\"\n",
       " viewBox=\"0.00 0.00 3857.91 305.00\" xmlns=\"http://www.w3.org/2000/svg\" xmlns:xlink=\"http://www.w3.org/1999/xlink\">\n",
       "<g id=\"graph0\" class=\"graph\" transform=\"scale(1 1) rotate(0) translate(4 301)\">\n",
       "<polygon fill=\"white\" stroke=\"transparent\" points=\"-4,4 -4,-301 3853.91,-301 3853.91,4 -4,4\"/>\n",
       "<!-- [Stop(56, Location(xy=(&#45;1.15, 0.14)), True), Stop(5, Location(xy=(&#45;1.15, &#45;0.26)), True), Stop(52, Location(xy=(&#45;1.08, 0.10)), True), Stop(53, Location(xy=(&#45;0.99, 0.08)), True), Stop(60, Location(xy=(&#45;0.98, 0.09)), True), Stop(10, Location(xy=(&#45;0.80, 0.09)), True), Stop(39, Location(xy=(&#45;0.66, &#45;0.19)), True), Stop(49, Location(xy=(&#45;0.65, 0.06)), True), Stop(25, Location(xy=(&#45;0.64, 0.07)), True), Stop(45, Location(xy=(&#45;0.28, 0.26)), True)] -->\n",
       "<g id=\"node1\" class=\"node\">\n",
       "<title>[Stop(56, Location(xy=(&#45;1.15, 0.14)), True), Stop(5, Location(xy=(&#45;1.15, &#45;0.26)), True), Stop(52, Location(xy=(&#45;1.08, 0.10)), True), Stop(53, Location(xy=(&#45;0.99, 0.08)), True), Stop(60, Location(xy=(&#45;0.98, 0.09)), True), Stop(10, Location(xy=(&#45;0.80, 0.09)), True), Stop(39, Location(xy=(&#45;0.66, &#45;0.19)), True), Stop(49, Location(xy=(&#45;0.65, 0.06)), True), Stop(25, Location(xy=(&#45;0.64, 0.07)), True), Stop(45, Location(xy=(&#45;0.28, 0.26)), True)]</title>\n",
       "<ellipse fill=\"none\" stroke=\"black\" cx=\"1704.34\" cy=\"-279\" rx=\"1592.22\" ry=\"18\"/>\n",
       "<text text-anchor=\"middle\" x=\"1704.34\" y=\"-275.3\" font-family=\"Times,serif\" font-size=\"14.00\">[Stop(56, Location(xy=(&#45;1.15, 0.14)), True), Stop(5, Location(xy=(&#45;1.15, &#45;0.26)), True), Stop(52, Location(xy=(&#45;1.08, 0.10)), True), Stop(53, Location(xy=(&#45;0.99, 0.08)), True), Stop(60, Location(xy=(&#45;0.98, 0.09)), True), Stop(10, Location(xy=(&#45;0.80, 0.09)), True), Stop(39, Location(xy=(&#45;0.66, &#45;0.19)), True), Stop(49, Location(xy=(&#45;0.65, 0.06)), True), Stop(25, Location(xy=(&#45;0.64, 0.07)), True), Stop(45, Location(xy=(&#45;0.28, 0.26)), True)]</text>\n",
       "</g>\n",
       "<!-- [Stop(5, Location(xy=(&#45;1.15, &#45;0.26)), True), Stop(53, Location(xy=(&#45;0.99, 0.08)), True), Stop(60, Location(xy=(&#45;0.98, 0.09)), True), Stop(52, Location(xy=(&#45;1.08, 0.10)), True), Stop(56, Location(xy=(&#45;1.15, 0.14)), True)] -->\n",
       "<g id=\"node2\" class=\"node\">\n",
       "<title>[Stop(5, Location(xy=(&#45;1.15, &#45;0.26)), True), Stop(53, Location(xy=(&#45;0.99, 0.08)), True), Stop(60, Location(xy=(&#45;0.98, 0.09)), True), Stop(52, Location(xy=(&#45;1.08, 0.10)), True), Stop(56, Location(xy=(&#45;1.15, 0.14)), True)]</title>\n",
       "<ellipse fill=\"none\" stroke=\"black\" cx=\"893.34\" cy=\"-192\" rx=\"800.16\" ry=\"18\"/>\n",
       "<text text-anchor=\"middle\" x=\"893.34\" y=\"-188.3\" font-family=\"Times,serif\" font-size=\"14.00\">[Stop(5, Location(xy=(&#45;1.15, &#45;0.26)), True), Stop(53, Location(xy=(&#45;0.99, 0.08)), True), Stop(60, Location(xy=(&#45;0.98, 0.09)), True), Stop(52, Location(xy=(&#45;1.08, 0.10)), True), Stop(56, Location(xy=(&#45;1.15, 0.14)), True)]</text>\n",
       "</g>\n",
       "<!-- [Stop(56, Location(xy=(&#45;1.15, 0.14)), True), Stop(5, Location(xy=(&#45;1.15, &#45;0.26)), True), Stop(52, Location(xy=(&#45;1.08, 0.10)), True), Stop(53, Location(xy=(&#45;0.99, 0.08)), True), Stop(60, Location(xy=(&#45;0.98, 0.09)), True), Stop(10, Location(xy=(&#45;0.80, 0.09)), True), Stop(39, Location(xy=(&#45;0.66, &#45;0.19)), True), Stop(49, Location(xy=(&#45;0.65, 0.06)), True), Stop(25, Location(xy=(&#45;0.64, 0.07)), True), Stop(45, Location(xy=(&#45;0.28, 0.26)), True)]&#45;&gt;[Stop(5, Location(xy=(&#45;1.15, &#45;0.26)), True), Stop(53, Location(xy=(&#45;0.99, 0.08)), True), Stop(60, Location(xy=(&#45;0.98, 0.09)), True), Stop(52, Location(xy=(&#45;1.08, 0.10)), True), Stop(56, Location(xy=(&#45;1.15, 0.14)), True)] -->\n",
       "<g id=\"edge7\" class=\"edge\">\n",
       "<title>[Stop(56, Location(xy=(&#45;1.15, 0.14)), True), Stop(5, Location(xy=(&#45;1.15, &#45;0.26)), True), Stop(52, Location(xy=(&#45;1.08, 0.10)), True), Stop(53, Location(xy=(&#45;0.99, 0.08)), True), Stop(60, Location(xy=(&#45;0.98, 0.09)), True), Stop(10, Location(xy=(&#45;0.80, 0.09)), True), Stop(39, Location(xy=(&#45;0.66, &#45;0.19)), True), Stop(49, Location(xy=(&#45;0.65, 0.06)), True), Stop(25, Location(xy=(&#45;0.64, 0.07)), True), Stop(45, Location(xy=(&#45;0.28, 0.26)), True)]&#45;&gt;[Stop(5, Location(xy=(&#45;1.15, &#45;0.26)), True), Stop(53, Location(xy=(&#45;0.99, 0.08)), True), Stop(60, Location(xy=(&#45;0.98, 0.09)), True), Stop(52, Location(xy=(&#45;1.08, 0.10)), True), Stop(56, Location(xy=(&#45;1.15, 0.14)), True)]</title>\n",
       "<path fill=\"none\" stroke=\"black\" d=\"M1542.65,-261.05C1403.55,-246.48 1203.56,-225.51 1062.37,-210.72\"/>\n",
       "<polygon fill=\"black\" stroke=\"black\" points=\"1062.62,-207.22 1052.31,-209.66 1061.89,-214.19 1062.62,-207.22\"/>\n",
       "<text text-anchor=\"middle\" x=\"1352.84\" y=\"-231.8\" font-family=\"Times,serif\" font-size=\"14.00\">L</text>\n",
       "</g>\n",
       "<!-- [Stop(39, Location(xy=(&#45;0.66, &#45;0.19)), True), Stop(49, Location(xy=(&#45;0.65, 0.06)), True), Stop(25, Location(xy=(&#45;0.64, 0.07)), True), Stop(10, Location(xy=(&#45;0.80, 0.09)), True), Stop(45, Location(xy=(&#45;0.28, 0.26)), True)] -->\n",
       "<g id=\"node9\" class=\"node\">\n",
       "<title>[Stop(39, Location(xy=(&#45;0.66, &#45;0.19)), True), Stop(49, Location(xy=(&#45;0.65, 0.06)), True), Stop(25, Location(xy=(&#45;0.64, 0.07)), True), Stop(10, Location(xy=(&#45;0.80, 0.09)), True), Stop(45, Location(xy=(&#45;0.28, 0.26)), True)]</title>\n",
       "<ellipse fill=\"none\" stroke=\"black\" cx=\"2516.34\" cy=\"-192\" rx=\"804.76\" ry=\"18\"/>\n",
       "<text text-anchor=\"middle\" x=\"2516.34\" y=\"-188.3\" font-family=\"Times,serif\" font-size=\"14.00\">[Stop(39, Location(xy=(&#45;0.66, &#45;0.19)), True), Stop(49, Location(xy=(&#45;0.65, 0.06)), True), Stop(25, Location(xy=(&#45;0.64, 0.07)), True), Stop(10, Location(xy=(&#45;0.80, 0.09)), True), Stop(45, Location(xy=(&#45;0.28, 0.26)), True)]</text>\n",
       "</g>\n",
       "<!-- [Stop(56, Location(xy=(&#45;1.15, 0.14)), True), Stop(5, Location(xy=(&#45;1.15, &#45;0.26)), True), Stop(52, Location(xy=(&#45;1.08, 0.10)), True), Stop(53, Location(xy=(&#45;0.99, 0.08)), True), Stop(60, Location(xy=(&#45;0.98, 0.09)), True), Stop(10, Location(xy=(&#45;0.80, 0.09)), True), Stop(39, Location(xy=(&#45;0.66, &#45;0.19)), True), Stop(49, Location(xy=(&#45;0.65, 0.06)), True), Stop(25, Location(xy=(&#45;0.64, 0.07)), True), Stop(45, Location(xy=(&#45;0.28, 0.26)), True)]&#45;&gt;[Stop(39, Location(xy=(&#45;0.66, &#45;0.19)), True), Stop(49, Location(xy=(&#45;0.65, 0.06)), True), Stop(25, Location(xy=(&#45;0.64, 0.07)), True), Stop(10, Location(xy=(&#45;0.80, 0.09)), True), Stop(45, Location(xy=(&#45;0.28, 0.26)), True)] -->\n",
       "<g id=\"edge14\" class=\"edge\">\n",
       "<title>[Stop(56, Location(xy=(&#45;1.15, 0.14)), True), Stop(5, Location(xy=(&#45;1.15, &#45;0.26)), True), Stop(52, Location(xy=(&#45;1.08, 0.10)), True), Stop(53, Location(xy=(&#45;0.99, 0.08)), True), Stop(60, Location(xy=(&#45;0.98, 0.09)), True), Stop(10, Location(xy=(&#45;0.80, 0.09)), True), Stop(39, Location(xy=(&#45;0.66, &#45;0.19)), True), Stop(49, Location(xy=(&#45;0.65, 0.06)), True), Stop(25, Location(xy=(&#45;0.64, 0.07)), True), Stop(45, Location(xy=(&#45;0.28, 0.26)), True)]&#45;&gt;[Stop(39, Location(xy=(&#45;0.66, &#45;0.19)), True), Stop(49, Location(xy=(&#45;0.65, 0.06)), True), Stop(25, Location(xy=(&#45;0.64, 0.07)), True), Stop(10, Location(xy=(&#45;0.80, 0.09)), True), Stop(45, Location(xy=(&#45;0.28, 0.26)), True)]</title>\n",
       "<path fill=\"none\" stroke=\"black\" d=\"M1866.22,-261.05C2005.49,-246.48 2205.72,-225.51 2347.09,-210.72\"/>\n",
       "<polygon fill=\"black\" stroke=\"black\" points=\"2347.59,-214.18 2357.17,-209.66 2346.86,-207.22 2347.59,-214.18\"/>\n",
       "<text text-anchor=\"middle\" x=\"2164.34\" y=\"-231.8\" font-family=\"Times,serif\" font-size=\"14.00\">R</text>\n",
       "</g>\n",
       "<!-- [Stop(5, Location(xy=(&#45;1.15, &#45;0.26)), True), Stop(53, Location(xy=(&#45;0.99, 0.08)), True)] -->\n",
       "<g id=\"node3\" class=\"node\">\n",
       "<title>[Stop(5, Location(xy=(&#45;1.15, &#45;0.26)), True), Stop(53, Location(xy=(&#45;0.99, 0.08)), True)]</title>\n",
       "<ellipse fill=\"none\" stroke=\"black\" cx=\"461.34\" cy=\"-105\" rx=\"326.04\" ry=\"18\"/>\n",
       "<text text-anchor=\"middle\" x=\"461.34\" y=\"-101.3\" font-family=\"Times,serif\" font-size=\"14.00\">[Stop(5, Location(xy=(&#45;1.15, &#45;0.26)), True), Stop(53, Location(xy=(&#45;0.99, 0.08)), True)]</text>\n",
       "</g>\n",
       "<!-- [Stop(5, Location(xy=(&#45;1.15, &#45;0.26)), True), Stop(53, Location(xy=(&#45;0.99, 0.08)), True), Stop(60, Location(xy=(&#45;0.98, 0.09)), True), Stop(52, Location(xy=(&#45;1.08, 0.10)), True), Stop(56, Location(xy=(&#45;1.15, 0.14)), True)]&#45;&gt;[Stop(5, Location(xy=(&#45;1.15, &#45;0.26)), True), Stop(53, Location(xy=(&#45;0.99, 0.08)), True)] -->\n",
       "<g id=\"edge3\" class=\"edge\">\n",
       "<title>[Stop(5, Location(xy=(&#45;1.15, &#45;0.26)), True), Stop(53, Location(xy=(&#45;0.99, 0.08)), True), Stop(60, Location(xy=(&#45;0.98, 0.09)), True), Stop(52, Location(xy=(&#45;1.08, 0.10)), True), Stop(56, Location(xy=(&#45;1.15, 0.14)), True)]&#45;&gt;[Stop(5, Location(xy=(&#45;1.15, &#45;0.26)), True), Stop(53, Location(xy=(&#45;0.99, 0.08)), True)]</title>\n",
       "<path fill=\"none\" stroke=\"black\" d=\"M807.21,-174.05C734.18,-159.69 629.66,-139.12 554.65,-124.36\"/>\n",
       "<polygon fill=\"black\" stroke=\"black\" points=\"555.22,-120.91 544.73,-122.41 553.87,-127.77 555.22,-120.91\"/>\n",
       "<text text-anchor=\"middle\" x=\"707.84\" y=\"-144.8\" font-family=\"Times,serif\" font-size=\"14.00\">L</text>\n",
       "</g>\n",
       "<!-- [Stop(56, Location(xy=(&#45;1.15, 0.14)), True), Stop(52, Location(xy=(&#45;1.08, 0.10)), True), Stop(60, Location(xy=(&#45;0.98, 0.09)), True)] -->\n",
       "<g id=\"node6\" class=\"node\">\n",
       "<title>[Stop(56, Location(xy=(&#45;1.15, 0.14)), True), Stop(52, Location(xy=(&#45;1.08, 0.10)), True), Stop(60, Location(xy=(&#45;0.98, 0.09)), True)]</title>\n",
       "<ellipse fill=\"none\" stroke=\"black\" cx=\"1291.34\" cy=\"-105\" rx=\"485.51\" ry=\"18\"/>\n",
       "<text text-anchor=\"middle\" x=\"1291.34\" y=\"-101.3\" font-family=\"Times,serif\" font-size=\"14.00\">[Stop(56, Location(xy=(&#45;1.15, 0.14)), True), Stop(52, Location(xy=(&#45;1.08, 0.10)), True), Stop(60, Location(xy=(&#45;0.98, 0.09)), True)]</text>\n",
       "</g>\n",
       "<!-- [Stop(5, Location(xy=(&#45;1.15, &#45;0.26)), True), Stop(53, Location(xy=(&#45;0.99, 0.08)), True), Stop(60, Location(xy=(&#45;0.98, 0.09)), True), Stop(52, Location(xy=(&#45;1.08, 0.10)), True), Stop(56, Location(xy=(&#45;1.15, 0.14)), True)]&#45;&gt;[Stop(56, Location(xy=(&#45;1.15, 0.14)), True), Stop(52, Location(xy=(&#45;1.08, 0.10)), True), Stop(60, Location(xy=(&#45;0.98, 0.09)), True)] -->\n",
       "<g id=\"edge6\" class=\"edge\">\n",
       "<title>[Stop(5, Location(xy=(&#45;1.15, &#45;0.26)), True), Stop(53, Location(xy=(&#45;0.99, 0.08)), True), Stop(60, Location(xy=(&#45;0.98, 0.09)), True), Stop(52, Location(xy=(&#45;1.08, 0.10)), True), Stop(56, Location(xy=(&#45;1.15, 0.14)), True)]&#45;&gt;[Stop(56, Location(xy=(&#45;1.15, 0.14)), True), Stop(52, Location(xy=(&#45;1.08, 0.10)), True), Stop(60, Location(xy=(&#45;0.98, 0.09)), True)]</title>\n",
       "<path fill=\"none\" stroke=\"black\" d=\"M972.92,-174C1039.3,-159.83 1133.8,-139.64 1202.61,-124.95\"/>\n",
       "<polygon fill=\"black\" stroke=\"black\" points=\"1203.52,-128.33 1212.57,-122.82 1202.06,-121.49 1203.52,-128.33\"/>\n",
       "<text text-anchor=\"middle\" x=\"1121.34\" y=\"-144.8\" font-family=\"Times,serif\" font-size=\"14.00\">R</text>\n",
       "</g>\n",
       "<!-- [Stop(5, Location(xy=(&#45;1.15, &#45;0.26)), True)] -->\n",
       "<g id=\"node4\" class=\"node\">\n",
       "<title>[Stop(5, Location(xy=(&#45;1.15, &#45;0.26)), True)]</title>\n",
       "<ellipse fill=\"none\" stroke=\"black\" cx=\"168.34\" cy=\"-18\" rx=\"168.17\" ry=\"18\"/>\n",
       "<text text-anchor=\"middle\" x=\"168.34\" y=\"-14.3\" font-family=\"Times,serif\" font-size=\"14.00\">[Stop(5, Location(xy=(&#45;1.15, &#45;0.26)), True)]</text>\n",
       "</g>\n",
       "<!-- [Stop(5, Location(xy=(&#45;1.15, &#45;0.26)), True), Stop(53, Location(xy=(&#45;0.99, 0.08)), True)]&#45;&gt;[Stop(5, Location(xy=(&#45;1.15, &#45;0.26)), True)] -->\n",
       "<g id=\"edge1\" class=\"edge\">\n",
       "<title>[Stop(5, Location(xy=(&#45;1.15, &#45;0.26)), True), Stop(53, Location(xy=(&#45;0.99, 0.08)), True)]&#45;&gt;[Stop(5, Location(xy=(&#45;1.15, &#45;0.26)), True)]</title>\n",
       "<path fill=\"none\" stroke=\"black\" d=\"M403.45,-87.21C354.51,-73.01 284.44,-52.68 233.53,-37.91\"/>\n",
       "<polygon fill=\"black\" stroke=\"black\" points=\"234.2,-34.46 223.62,-35.04 232.25,-41.19 234.2,-34.46\"/>\n",
       "<text text-anchor=\"middle\" x=\"337.84\" y=\"-57.8\" font-family=\"Times,serif\" font-size=\"14.00\">L</text>\n",
       "</g>\n",
       "<!-- [Stop(53, Location(xy=(&#45;0.99, 0.08)), True)] -->\n",
       "<g id=\"node5\" class=\"node\">\n",
       "<title>[Stop(53, Location(xy=(&#45;0.99, 0.08)), True)]</title>\n",
       "<ellipse fill=\"none\" stroke=\"black\" cx=\"524.34\" cy=\"-18\" rx=\"169.77\" ry=\"18\"/>\n",
       "<text text-anchor=\"middle\" x=\"524.34\" y=\"-14.3\" font-family=\"Times,serif\" font-size=\"14.00\">[Stop(53, Location(xy=(&#45;0.99, 0.08)), True)]</text>\n",
       "</g>\n",
       "<!-- [Stop(5, Location(xy=(&#45;1.15, &#45;0.26)), True), Stop(53, Location(xy=(&#45;0.99, 0.08)), True)]&#45;&gt;[Stop(53, Location(xy=(&#45;0.99, 0.08)), True)] -->\n",
       "<g id=\"edge2\" class=\"edge\">\n",
       "<title>[Stop(5, Location(xy=(&#45;1.15, &#45;0.26)), True), Stop(53, Location(xy=(&#45;0.99, 0.08)), True)]&#45;&gt;[Stop(53, Location(xy=(&#45;0.99, 0.08)), True)]</title>\n",
       "<path fill=\"none\" stroke=\"black\" d=\"M474.08,-86.8C483.14,-74.59 495.44,-57.99 505.6,-44.28\"/>\n",
       "<polygon fill=\"black\" stroke=\"black\" points=\"508.46,-46.29 511.61,-36.18 502.84,-42.13 508.46,-46.29\"/>\n",
       "<text text-anchor=\"middle\" x=\"502.34\" y=\"-57.8\" font-family=\"Times,serif\" font-size=\"14.00\">R</text>\n",
       "</g>\n",
       "<!-- [Stop(56, Location(xy=(&#45;1.15, 0.14)), True)] -->\n",
       "<g id=\"node7\" class=\"node\">\n",
       "<title>[Stop(56, Location(xy=(&#45;1.15, 0.14)), True)]</title>\n",
       "<ellipse fill=\"none\" stroke=\"black\" cx=\"986.34\" cy=\"-18\" rx=\"169.77\" ry=\"18\"/>\n",
       "<text text-anchor=\"middle\" x=\"986.34\" y=\"-14.3\" font-family=\"Times,serif\" font-size=\"14.00\">[Stop(56, Location(xy=(&#45;1.15, 0.14)), True)]</text>\n",
       "</g>\n",
       "<!-- [Stop(56, Location(xy=(&#45;1.15, 0.14)), True), Stop(52, Location(xy=(&#45;1.08, 0.10)), True), Stop(60, Location(xy=(&#45;0.98, 0.09)), True)]&#45;&gt;[Stop(56, Location(xy=(&#45;1.15, 0.14)), True)] -->\n",
       "<g id=\"edge4\" class=\"edge\">\n",
       "<title>[Stop(56, Location(xy=(&#45;1.15, 0.14)), True), Stop(52, Location(xy=(&#45;1.08, 0.10)), True), Stop(60, Location(xy=(&#45;0.98, 0.09)), True)]&#45;&gt;[Stop(56, Location(xy=(&#45;1.15, 0.14)), True)]</title>\n",
       "<path fill=\"none\" stroke=\"black\" d=\"M1230.71,-87.11C1179.52,-72.84 1106.31,-52.44 1053.38,-37.69\"/>\n",
       "<polygon fill=\"black\" stroke=\"black\" points=\"1054.32,-34.31 1043.75,-35 1052.44,-41.06 1054.32,-34.31\"/>\n",
       "<text text-anchor=\"middle\" x=\"1161.84\" y=\"-57.8\" font-family=\"Times,serif\" font-size=\"14.00\">L</text>\n",
       "</g>\n",
       "<!-- [Stop(60, Location(xy=(&#45;0.98, 0.09)), True), Stop(52, Location(xy=(&#45;1.08, 0.10)), True)] -->\n",
       "<g id=\"node8\" class=\"node\">\n",
       "<title>[Stop(60, Location(xy=(&#45;0.98, 0.09)), True), Stop(52, Location(xy=(&#45;1.08, 0.10)), True)]</title>\n",
       "<ellipse fill=\"none\" stroke=\"black\" cx=\"1501.34\" cy=\"-18\" rx=\"327.64\" ry=\"18\"/>\n",
       "<text text-anchor=\"middle\" x=\"1501.34\" y=\"-14.3\" font-family=\"Times,serif\" font-size=\"14.00\">[Stop(60, Location(xy=(&#45;0.98, 0.09)), True), Stop(52, Location(xy=(&#45;1.08, 0.10)), True)]</text>\n",
       "</g>\n",
       "<!-- [Stop(56, Location(xy=(&#45;1.15, 0.14)), True), Stop(52, Location(xy=(&#45;1.08, 0.10)), True), Stop(60, Location(xy=(&#45;0.98, 0.09)), True)]&#45;&gt;[Stop(60, Location(xy=(&#45;0.98, 0.09)), True), Stop(52, Location(xy=(&#45;1.08, 0.10)), True)] -->\n",
       "<g id=\"edge5\" class=\"edge\">\n",
       "<title>[Stop(56, Location(xy=(&#45;1.15, 0.14)), True), Stop(52, Location(xy=(&#45;1.08, 0.10)), True), Stop(60, Location(xy=(&#45;0.98, 0.09)), True)]&#45;&gt;[Stop(60, Location(xy=(&#45;0.98, 0.09)), True), Stop(52, Location(xy=(&#45;1.08, 0.10)), True)]</title>\n",
       "<path fill=\"none\" stroke=\"black\" d=\"M1333.33,-87C1366.95,-73.39 1414.25,-54.25 1450.1,-39.74\"/>\n",
       "<polygon fill=\"black\" stroke=\"black\" points=\"1451.46,-42.96 1459.42,-35.97 1448.83,-36.47 1451.46,-42.96\"/>\n",
       "<text text-anchor=\"middle\" x=\"1414.34\" y=\"-57.8\" font-family=\"Times,serif\" font-size=\"14.00\">R</text>\n",
       "</g>\n",
       "<!-- [Stop(39, Location(xy=(&#45;0.66, &#45;0.19)), True), Stop(49, Location(xy=(&#45;0.65, 0.06)), True)] -->\n",
       "<g id=\"node10\" class=\"node\">\n",
       "<title>[Stop(39, Location(xy=(&#45;0.66, &#45;0.19)), True), Stop(49, Location(xy=(&#45;0.65, 0.06)), True)]</title>\n",
       "<ellipse fill=\"none\" stroke=\"black\" cx=\"2390.34\" cy=\"-105\" rx=\"330.64\" ry=\"18\"/>\n",
       "<text text-anchor=\"middle\" x=\"2390.34\" y=\"-101.3\" font-family=\"Times,serif\" font-size=\"14.00\">[Stop(39, Location(xy=(&#45;0.66, &#45;0.19)), True), Stop(49, Location(xy=(&#45;0.65, 0.06)), True)]</text>\n",
       "</g>\n",
       "<!-- [Stop(39, Location(xy=(&#45;0.66, &#45;0.19)), True), Stop(49, Location(xy=(&#45;0.65, 0.06)), True), Stop(25, Location(xy=(&#45;0.64, 0.07)), True), Stop(10, Location(xy=(&#45;0.80, 0.09)), True), Stop(45, Location(xy=(&#45;0.28, 0.26)), True)]&#45;&gt;[Stop(39, Location(xy=(&#45;0.66, &#45;0.19)), True), Stop(49, Location(xy=(&#45;0.65, 0.06)), True)] -->\n",
       "<g id=\"edge10\" class=\"edge\">\n",
       "<title>[Stop(39, Location(xy=(&#45;0.66, &#45;0.19)), True), Stop(49, Location(xy=(&#45;0.65, 0.06)), True), Stop(25, Location(xy=(&#45;0.64, 0.07)), True), Stop(10, Location(xy=(&#45;0.80, 0.09)), True), Stop(45, Location(xy=(&#45;0.28, 0.26)), True)]&#45;&gt;[Stop(39, Location(xy=(&#45;0.66, &#45;0.19)), True), Stop(49, Location(xy=(&#45;0.65, 0.06)), True)]</title>\n",
       "<path fill=\"none\" stroke=\"black\" d=\"M2491.14,-174C2471.83,-160.97 2444.99,-142.87 2423.86,-128.62\"/>\n",
       "<polygon fill=\"black\" stroke=\"black\" points=\"2425.73,-125.66 2415.49,-122.97 2421.82,-131.46 2425.73,-125.66\"/>\n",
       "<text text-anchor=\"middle\" x=\"2465.84\" y=\"-144.8\" font-family=\"Times,serif\" font-size=\"14.00\">L</text>\n",
       "</g>\n",
       "<!-- [Stop(10, Location(xy=(&#45;0.80, 0.09)), True), Stop(25, Location(xy=(&#45;0.64, 0.07)), True), Stop(45, Location(xy=(&#45;0.28, 0.26)), True)] -->\n",
       "<g id=\"node13\" class=\"node\">\n",
       "<title>[Stop(10, Location(xy=(&#45;0.80, 0.09)), True), Stop(25, Location(xy=(&#45;0.64, 0.07)), True), Stop(45, Location(xy=(&#45;0.28, 0.26)), True)]</title>\n",
       "<ellipse fill=\"none\" stroke=\"black\" cx=\"3224.34\" cy=\"-105\" rx=\"485.51\" ry=\"18\"/>\n",
       "<text text-anchor=\"middle\" x=\"3224.34\" y=\"-101.3\" font-family=\"Times,serif\" font-size=\"14.00\">[Stop(10, Location(xy=(&#45;0.80, 0.09)), True), Stop(25, Location(xy=(&#45;0.64, 0.07)), True), Stop(45, Location(xy=(&#45;0.28, 0.26)), True)]</text>\n",
       "</g>\n",
       "<!-- [Stop(39, Location(xy=(&#45;0.66, &#45;0.19)), True), Stop(49, Location(xy=(&#45;0.65, 0.06)), True), Stop(25, Location(xy=(&#45;0.64, 0.07)), True), Stop(10, Location(xy=(&#45;0.80, 0.09)), True), Stop(45, Location(xy=(&#45;0.28, 0.26)), True)]&#45;&gt;[Stop(10, Location(xy=(&#45;0.80, 0.09)), True), Stop(25, Location(xy=(&#45;0.64, 0.07)), True), Stop(45, Location(xy=(&#45;0.28, 0.26)), True)] -->\n",
       "<g id=\"edge13\" class=\"edge\">\n",
       "<title>[Stop(39, Location(xy=(&#45;0.66, &#45;0.19)), True), Stop(49, Location(xy=(&#45;0.65, 0.06)), True), Stop(25, Location(xy=(&#45;0.64, 0.07)), True), Stop(10, Location(xy=(&#45;0.80, 0.09)), True), Stop(45, Location(xy=(&#45;0.28, 0.26)), True)]&#45;&gt;[Stop(10, Location(xy=(&#45;0.80, 0.09)), True), Stop(25, Location(xy=(&#45;0.64, 0.07)), True), Stop(45, Location(xy=(&#45;0.28, 0.26)), True)]</title>\n",
       "<path fill=\"none\" stroke=\"black\" d=\"M2655.79,-174.26C2777.87,-159.6 2954.61,-138.38 3078.54,-123.5\"/>\n",
       "<polygon fill=\"black\" stroke=\"black\" points=\"3078.98,-126.98 3088.49,-122.31 3078.15,-120.03 3078.98,-126.98\"/>\n",
       "<text text-anchor=\"middle\" x=\"2918.34\" y=\"-144.8\" font-family=\"Times,serif\" font-size=\"14.00\">R</text>\n",
       "</g>\n",
       "<!-- [Stop(39, Location(xy=(&#45;0.66, &#45;0.19)), True)] -->\n",
       "<g id=\"node11\" class=\"node\">\n",
       "<title>[Stop(39, Location(xy=(&#45;0.66, &#45;0.19)), True)]</title>\n",
       "<ellipse fill=\"none\" stroke=\"black\" cx=\"2072.34\" cy=\"-18\" rx=\"172.77\" ry=\"18\"/>\n",
       "<text text-anchor=\"middle\" x=\"2072.34\" y=\"-14.3\" font-family=\"Times,serif\" font-size=\"14.00\">[Stop(39, Location(xy=(&#45;0.66, &#45;0.19)), True)]</text>\n",
       "</g>\n",
       "<!-- [Stop(39, Location(xy=(&#45;0.66, &#45;0.19)), True), Stop(49, Location(xy=(&#45;0.65, 0.06)), True)]&#45;&gt;[Stop(39, Location(xy=(&#45;0.66, &#45;0.19)), True)] -->\n",
       "<g id=\"edge8\" class=\"edge\">\n",
       "<title>[Stop(39, Location(xy=(&#45;0.66, &#45;0.19)), True), Stop(49, Location(xy=(&#45;0.65, 0.06)), True)]&#45;&gt;[Stop(39, Location(xy=(&#45;0.66, &#45;0.19)), True)]</title>\n",
       "<path fill=\"none\" stroke=\"black\" d=\"M2327.89,-87.31C2274.31,-72.99 2197.19,-52.37 2141.7,-37.54\"/>\n",
       "<polygon fill=\"black\" stroke=\"black\" points=\"2142.51,-34.14 2131.95,-34.93 2140.71,-40.9 2142.51,-34.14\"/>\n",
       "<text text-anchor=\"middle\" x=\"2255.84\" y=\"-57.8\" font-family=\"Times,serif\" font-size=\"14.00\">L</text>\n",
       "</g>\n",
       "<!-- [Stop(49, Location(xy=(&#45;0.65, 0.06)), True)] -->\n",
       "<g id=\"node12\" class=\"node\">\n",
       "<title>[Stop(49, Location(xy=(&#45;0.65, 0.06)), True)]</title>\n",
       "<ellipse fill=\"none\" stroke=\"black\" cx=\"2433.34\" cy=\"-18\" rx=\"169.77\" ry=\"18\"/>\n",
       "<text text-anchor=\"middle\" x=\"2433.34\" y=\"-14.3\" font-family=\"Times,serif\" font-size=\"14.00\">[Stop(49, Location(xy=(&#45;0.65, 0.06)), True)]</text>\n",
       "</g>\n",
       "<!-- [Stop(39, Location(xy=(&#45;0.66, &#45;0.19)), True), Stop(49, Location(xy=(&#45;0.65, 0.06)), True)]&#45;&gt;[Stop(49, Location(xy=(&#45;0.65, 0.06)), True)] -->\n",
       "<g id=\"edge9\" class=\"edge\">\n",
       "<title>[Stop(39, Location(xy=(&#45;0.66, &#45;0.19)), True), Stop(49, Location(xy=(&#45;0.65, 0.06)), True)]&#45;&gt;[Stop(49, Location(xy=(&#45;0.65, 0.06)), True)]</title>\n",
       "<path fill=\"none\" stroke=\"black\" d=\"M2399.04,-86.8C2405.04,-74.93 2413.14,-58.93 2419.96,-45.45\"/>\n",
       "<polygon fill=\"black\" stroke=\"black\" points=\"2423.26,-46.68 2424.65,-36.18 2417.01,-43.52 2423.26,-46.68\"/>\n",
       "<text text-anchor=\"middle\" x=\"2420.34\" y=\"-57.8\" font-family=\"Times,serif\" font-size=\"14.00\">R</text>\n",
       "</g>\n",
       "<!-- [Stop(10, Location(xy=(&#45;0.80, 0.09)), True)] -->\n",
       "<g id=\"node14\" class=\"node\">\n",
       "<title>[Stop(10, Location(xy=(&#45;0.80, 0.09)), True)]</title>\n",
       "<ellipse fill=\"none\" stroke=\"black\" cx=\"3007.34\" cy=\"-18\" rx=\"169.77\" ry=\"18\"/>\n",
       "<text text-anchor=\"middle\" x=\"3007.34\" y=\"-14.3\" font-family=\"Times,serif\" font-size=\"14.00\">[Stop(10, Location(xy=(&#45;0.80, 0.09)), True)]</text>\n",
       "</g>\n",
       "<!-- [Stop(10, Location(xy=(&#45;0.80, 0.09)), True), Stop(25, Location(xy=(&#45;0.64, 0.07)), True), Stop(45, Location(xy=(&#45;0.28, 0.26)), True)]&#45;&gt;[Stop(10, Location(xy=(&#45;0.80, 0.09)), True)] -->\n",
       "<g id=\"edge11\" class=\"edge\">\n",
       "<title>[Stop(10, Location(xy=(&#45;0.80, 0.09)), True), Stop(25, Location(xy=(&#45;0.64, 0.07)), True), Stop(45, Location(xy=(&#45;0.28, 0.26)), True)]&#45;&gt;[Stop(10, Location(xy=(&#45;0.80, 0.09)), True)]</title>\n",
       "<path fill=\"none\" stroke=\"black\" d=\"M3180.94,-87C3145.86,-73.26 3096.36,-53.87 3059.19,-39.31\"/>\n",
       "<polygon fill=\"black\" stroke=\"black\" points=\"3060.13,-35.92 3049.54,-35.53 3057.58,-42.44 3060.13,-35.92\"/>\n",
       "<text text-anchor=\"middle\" x=\"3133.84\" y=\"-57.8\" font-family=\"Times,serif\" font-size=\"14.00\">L</text>\n",
       "</g>\n",
       "<!-- [Stop(25, Location(xy=(&#45;0.64, 0.07)), True), Stop(45, Location(xy=(&#45;0.28, 0.26)), True)] -->\n",
       "<g id=\"node15\" class=\"node\">\n",
       "<title>[Stop(25, Location(xy=(&#45;0.64, 0.07)), True), Stop(45, Location(xy=(&#45;0.28, 0.26)), True)]</title>\n",
       "<ellipse fill=\"none\" stroke=\"black\" cx=\"3522.34\" cy=\"-18\" rx=\"327.64\" ry=\"18\"/>\n",
       "<text text-anchor=\"middle\" x=\"3522.34\" y=\"-14.3\" font-family=\"Times,serif\" font-size=\"14.00\">[Stop(25, Location(xy=(&#45;0.64, 0.07)), True), Stop(45, Location(xy=(&#45;0.28, 0.26)), True)]</text>\n",
       "</g>\n",
       "<!-- [Stop(10, Location(xy=(&#45;0.80, 0.09)), True), Stop(25, Location(xy=(&#45;0.64, 0.07)), True), Stop(45, Location(xy=(&#45;0.28, 0.26)), True)]&#45;&gt;[Stop(25, Location(xy=(&#45;0.64, 0.07)), True), Stop(45, Location(xy=(&#45;0.28, 0.26)), True)] -->\n",
       "<g id=\"edge12\" class=\"edge\">\n",
       "<title>[Stop(10, Location(xy=(&#45;0.80, 0.09)), True), Stop(25, Location(xy=(&#45;0.64, 0.07)), True), Stop(45, Location(xy=(&#45;0.28, 0.26)), True)]&#45;&gt;[Stop(25, Location(xy=(&#45;0.64, 0.07)), True), Stop(45, Location(xy=(&#45;0.28, 0.26)), True)]</title>\n",
       "<path fill=\"none\" stroke=\"black\" d=\"M3283.57,-87.11C3332.68,-73.1 3402.54,-53.17 3454.01,-38.49\"/>\n",
       "<polygon fill=\"black\" stroke=\"black\" points=\"3455.07,-41.83 3463.72,-35.72 3453.15,-35.1 3455.07,-41.83\"/>\n",
       "<text text-anchor=\"middle\" x=\"3396.34\" y=\"-57.8\" font-family=\"Times,serif\" font-size=\"14.00\">R</text>\n",
       "</g>\n",
       "</g>\n",
       "</svg>\n"
      ],
      "text/plain": [
       "<__main__.Node at 0x127cbbc50>"
      ]
     },
     "execution_count": 189,
     "metadata": {},
     "output_type": "execute_result"
    }
   ],
   "source": [
    "no"
   ]
  },
  {
   "cell_type": "code",
   "execution_count": 190,
   "metadata": {},
   "outputs": [
    {
     "data": {
      "text/plain": [
       "[Stop(5, Location(xy=(-1.15, -0.26)), True),\n",
       " Stop(53, Location(xy=(-0.99, 0.08)), True)]"
      ]
     },
     "execution_count": 190,
     "metadata": {},
     "output_type": "execute_result"
    }
   ],
   "source": [
    "no.range_search((-1.15,-0.66),(-0.26, 0.08))"
   ]
  },
  {
   "cell_type": "code",
   "execution_count": 191,
   "metadata": {},
   "outputs": [
    {
     "data": {
      "text/plain": [
       "['88_SAT', '88_SAT:L', '88_SAT:S']"
      ]
     },
     "execution_count": 191,
     "metadata": {},
     "output_type": "execute_result"
    }
   ],
   "source": [
    "bd = BusDay(datetime(2020, 2, 22))\n",
    "bd.service_ids"
   ]
  },
  {
   "cell_type": "markdown",
   "metadata": {},
   "source": [
    "## Scatter stops"
   ]
  },
  {
   "cell_type": "code",
   "execution_count": 193,
   "metadata": {},
   "outputs": [],
   "source": [
    "class BusDay:\n",
    "    with ZipFile('mmt_gtfs.zip') as zf:\n",
    "        with zf.open(\"calendar.txt\") as f:\n",
    "            calen = pd.read_csv(f)\n",
    "        with zf.open(\"trips.txt\") as f:\n",
    "            trips = pd.read_csv(f)\n",
    "        with zf.open(\"stop_times.txt\") as f:\n",
    "            stoptimes = pd.read_csv(f)\n",
    "        with zf.open(\"stops.txt\") as f:\n",
    "            stops = pd.read_csv(f)  \n",
    "        \n",
    "    def __init__(self, datetime):\n",
    "        self.datetime = datetime\n",
    "        self.numtime = int(self.datetime.strftime(\"%Y%m%d\"))\n",
    "        self.day = self.datetime.strftime(\"%A\").lower()\n",
    "        self.calender = BusDay.calen[BusDay.calen.start_date <= self.numtime]\n",
    "        self.calender = self.calender[self.calender.end_date >= self.numtime]\n",
    "        self.calender = self.calender[self.calender[self.day] == 1]\n",
    "        self.service_ids = list(self.calender['service_id'])\n",
    "        \n",
    "        self.triptable = BusDay.trips\n",
    "        self.triptable = self.triptable[self.triptable.service_id.isin(self.service_ids)].sort_values(by = 'trip_id', ascending = 1)\n",
    "        \n",
    "        self.trip_id = self.triptable.trip_id\n",
    "        self.stoptable = BusDay.stoptimes  ## stoptimes\n",
    "        self.stoptable = self.stoptable[self.stoptable.trip_id.isin(self.trip_id)].sort_values(by = 'stop_id', ascending = 1) ## table of stoptimes\n",
    "        \n",
    "        self.stop_id = self.stoptable.stop_id\n",
    "        self.stops = BusDay.stops ## info of stops location, no time/trip\n",
    "        self.stops = self.stops[self.stops.stop_id.isin(self.stop_id)].sort_values(by = 'stop_id', ascending = 1)\n",
    "        self.stops.loc[:,'wheelchair_boarding'] = self.stops['wheelchair_boarding'].apply(lambda x: True if x==1 else False)\n",
    "        \n",
    "    \n",
    "    def get_trips(self, route = None):\n",
    "        # self.triptable = BusDay.trips\n",
    "        if route != None:\n",
    "            # self.triptable = self.triptable[self.triptable.service_id.apply(lambda x: True if str(route) in x else False)]\n",
    "            self.triptable2 = self.triptable[self.triptable.route_short_name == route]\n",
    "        else:\n",
    "            self.triptable2 = self.triptable\n",
    "        \n",
    "        self.triptable2.loc[:,'bikes_allowed'] = self.triptable2['bikes_allowed'].apply(lambda x: True if x==1 else False)\n",
    "        self.triptable2 = self.triptable2[['trip_id', 'route_short_name', 'bikes_allowed']].values.tolist()\n",
    "        def to_Trip_object(item):\n",
    "            trip_id,route_id,bikes_allowed = item\n",
    "            return Trip(trip_id,route_id,bikes_allowed)\n",
    "        \n",
    "        self.triplist = list(map(to_Trip_object,self.triptable2))\n",
    "        return self.triplist\n",
    "    \n",
    "    def get_stops(self):\n",
    "        self.stops2 = self.stops[['stop_id', 'stop_lat', 'stop_lon', 'wheelchair_boarding']].values.tolist()\n",
    "        def to_Stop_object(item):\n",
    "            stop_id, stop_lat, stop_lon, wheelchair_boarding = item\n",
    "            Location_object = Location(latlon = (stop_lat, stop_lon))\n",
    "            return Stop(stop_id,Location_object,wheelchair_boarding)\n",
    "        self.stopslist = list(map(to_Stop_object, self.stops2))\n",
    "        return self.stopslist\n",
    "    \n",
    "    def get_stops_rect(self, xlim, ylim):\n",
    "        stops = self.get_stops()\n",
    "        BSTree = Node(stops)\n",
    "        return BSTree.range_search(xlim, ylim)\n",
    "        \n",
    "    def get_stops_circ(self, loc, radius):\n",
    "        stops = self.get_stops()\n",
    "        BSTree = Node(stops)\n",
    "        xlim = (loc[0] - radius, loc[0] + radius)\n",
    "        ylim = (loc[1] - radius, loc[1] + radius)\n",
    "        rec = BSTree.range_search(xlim, ylim)\n",
    "        center = Location(xy = loc)\n",
    "        return [stop for stop in rec if center.dist(stop.location_object) <= radius]\n",
    "    \n",
    "    def scatter_stops(self, ax):\n",
    "        stop_df = pd.DataFrame(list(map(lambda item: [item.location_object.x, item.location_object.y, item.wheelchair_boarding],self.get_stops())),\n",
    "             columns = ['x','y','wheelchair'])\n",
    "        stop_df[stop_df['wheelchair']].plot.scatter(x = 'x',y = 'y', c = 'red', ax = ax)\n",
    "        stop_df[~stop_df['wheelchair']].plot.scatter(x = 'x',y = 'y', c = '0.7', ax = ax)\n",
    "        \n",
    "    #def draw_tree(self, ax):\n",
    "        "
   ]
  },
  {
   "cell_type": "code",
   "execution_count": 194,
   "metadata": {},
   "outputs": [
    {
     "data": {
      "text/plain": [
       "[Stop(5, Location(xy=(-1.15, -0.26)), True),\n",
       " Stop(10, Location(xy=(-0.80, 0.09)), True),\n",
       " Stop(25, Location(xy=(-0.64, 0.07)), True),\n",
       " Stop(39, Location(xy=(-0.66, -0.19)), True),\n",
       " Stop(45, Location(xy=(-0.28, 0.26)), True),\n",
       " Stop(49, Location(xy=(-0.65, 0.06)), True),\n",
       " Stop(52, Location(xy=(-1.08, 0.10)), True),\n",
       " Stop(53, Location(xy=(-0.99, 0.08)), True),\n",
       " Stop(56, Location(xy=(-1.15, 0.14)), True),\n",
       " Stop(60, Location(xy=(-0.98, 0.09)), True)]"
      ]
     },
     "execution_count": 194,
     "metadata": {},
     "output_type": "execute_result"
    }
   ],
   "source": [
    "bd.get_stops()[:10]"
   ]
  },
  {
   "cell_type": "code",
   "execution_count": 195,
   "metadata": {},
   "outputs": [],
   "source": [
    "import matplotlib\n",
    "%matplotlib inline\n",
    "import pandas as pd\n",
    "x_cor = [item.location_object.x for item in bd.get_stops()[:10]]\n",
    "y_cor = [item.location_object.y for item in bd.get_stops()[:10]]\n",
    "wheel = [item.wheelchair_boarding for item in bd.get_stops()[:10]]"
   ]
  },
  {
   "cell_type": "code",
   "execution_count": 196,
   "metadata": {},
   "outputs": [
    {
     "ename": "SyntaxError",
     "evalue": "invalid syntax (<ipython-input-196-aa40dc56c7e9>, line 1)",
     "output_type": "error",
     "traceback": [
      "\u001b[0;36m  File \u001b[0;32m\"<ipython-input-196-aa40dc56c7e9>\"\u001b[0;36m, line \u001b[0;32m1\u001b[0m\n\u001b[0;31m    [x,y,z for x,y,z in bd.get_stops()[:10]]\u001b[0m\n\u001b[0m             ^\u001b[0m\n\u001b[0;31mSyntaxError\u001b[0m\u001b[0;31m:\u001b[0m invalid syntax\n"
     ]
    }
   ],
   "source": [
    "[x,y,z for x,y,z in bd.get_stops()[:10]]"
   ]
  },
  {
   "cell_type": "code",
   "execution_count": 197,
   "metadata": {},
   "outputs": [
    {
     "data": {
      "text/plain": [
       "[[-1.1459349874742466, -0.2579529613805489, True],\n",
       " [-0.8015644022866889, 0.08630653151111423, True],\n",
       " [-0.6396678613047899, 0.06959758701037488, True],\n",
       " [-0.6596905799387551, -0.1924980878823983, True],\n",
       " [-0.28036849670704705, 0.2623028105687797, True],\n",
       " [-0.652125321009811, 0.05841226052622739, True],\n",
       " [-1.079259839154572, 0.09997748610250845, True],\n",
       " [-0.9895863037145515, 0.07581165727958972, True],\n",
       " [-1.1539541618895013, 0.13581195798619117, True],\n",
       " [-0.9783897205414149, 0.09065638069978421, True]]"
      ]
     },
     "execution_count": 197,
     "metadata": {},
     "output_type": "execute_result"
    }
   ],
   "source": [
    "list(map(lambda item: [item.location_object.x, item.location_object.y, item.wheelchair_boarding],bd.get_stops()[:10]))"
   ]
  },
  {
   "cell_type": "code",
   "execution_count": 198,
   "metadata": {},
   "outputs": [],
   "source": [
    "stop_df = pd.DataFrame(list(map(lambda item: [item.location_object.x, item.location_object.y, item.wheelchair_boarding],bd.get_stops())),\n",
    "             columns = ['x','y','wheelchair'])"
   ]
  },
  {
   "cell_type": "code",
   "execution_count": 199,
   "metadata": {},
   "outputs": [
    {
     "data": {
      "text/html": [
       "<div>\n",
       "<style scoped>\n",
       "    .dataframe tbody tr th:only-of-type {\n",
       "        vertical-align: middle;\n",
       "    }\n",
       "\n",
       "    .dataframe tbody tr th {\n",
       "        vertical-align: top;\n",
       "    }\n",
       "\n",
       "    .dataframe thead th {\n",
       "        text-align: right;\n",
       "    }\n",
       "</style>\n",
       "<table border=\"1\" class=\"dataframe\">\n",
       "  <thead>\n",
       "    <tr style=\"text-align: right;\">\n",
       "      <th></th>\n",
       "      <th>x</th>\n",
       "      <th>y</th>\n",
       "      <th>wheelchair</th>\n",
       "    </tr>\n",
       "  </thead>\n",
       "  <tbody>\n",
       "    <tr>\n",
       "      <td>16</td>\n",
       "      <td>-0.191351</td>\n",
       "      <td>0.195536</td>\n",
       "      <td>False</td>\n",
       "    </tr>\n",
       "    <tr>\n",
       "      <td>47</td>\n",
       "      <td>-0.481504</td>\n",
       "      <td>-1.907927</td>\n",
       "      <td>False</td>\n",
       "    </tr>\n",
       "    <tr>\n",
       "      <td>65</td>\n",
       "      <td>-0.282840</td>\n",
       "      <td>-1.438833</td>\n",
       "      <td>False</td>\n",
       "    </tr>\n",
       "    <tr>\n",
       "      <td>66</td>\n",
       "      <td>-0.004993</td>\n",
       "      <td>-2.442751</td>\n",
       "      <td>False</td>\n",
       "    </tr>\n",
       "    <tr>\n",
       "      <td>82</td>\n",
       "      <td>-1.007138</td>\n",
       "      <td>-0.343293</td>\n",
       "      <td>False</td>\n",
       "    </tr>\n",
       "    <tr>\n",
       "      <td>...</td>\n",
       "      <td>...</td>\n",
       "      <td>...</td>\n",
       "      <td>...</td>\n",
       "    </tr>\n",
       "    <tr>\n",
       "      <td>1314</td>\n",
       "      <td>1.870788</td>\n",
       "      <td>3.948558</td>\n",
       "      <td>False</td>\n",
       "    </tr>\n",
       "    <tr>\n",
       "      <td>1317</td>\n",
       "      <td>3.463930</td>\n",
       "      <td>3.204527</td>\n",
       "      <td>False</td>\n",
       "    </tr>\n",
       "    <tr>\n",
       "      <td>1320</td>\n",
       "      <td>2.381644</td>\n",
       "      <td>3.174147</td>\n",
       "      <td>False</td>\n",
       "    </tr>\n",
       "    <tr>\n",
       "      <td>1387</td>\n",
       "      <td>4.163061</td>\n",
       "      <td>1.834394</td>\n",
       "      <td>False</td>\n",
       "    </tr>\n",
       "    <tr>\n",
       "      <td>1393</td>\n",
       "      <td>4.358396</td>\n",
       "      <td>4.933834</td>\n",
       "      <td>False</td>\n",
       "    </tr>\n",
       "  </tbody>\n",
       "</table>\n",
       "<p>239 rows × 3 columns</p>\n",
       "</div>"
      ],
      "text/plain": [
       "             x         y  wheelchair\n",
       "16   -0.191351  0.195536       False\n",
       "47   -0.481504 -1.907927       False\n",
       "65   -0.282840 -1.438833       False\n",
       "66   -0.004993 -2.442751       False\n",
       "82   -1.007138 -0.343293       False\n",
       "...        ...       ...         ...\n",
       "1314  1.870788  3.948558       False\n",
       "1317  3.463930  3.204527       False\n",
       "1320  2.381644  3.174147       False\n",
       "1387  4.163061  1.834394       False\n",
       "1393  4.358396  4.933834       False\n",
       "\n",
       "[239 rows x 3 columns]"
      ]
     },
     "execution_count": 199,
     "metadata": {},
     "output_type": "execute_result"
    }
   ],
   "source": [
    "stop_df[stop_df['wheelchair']==False]"
   ]
  },
  {
   "cell_type": "code",
   "execution_count": 200,
   "metadata": {},
   "outputs": [
    {
     "data": {
      "text/plain": [
       "<matplotlib.axes._subplots.AxesSubplot at 0x126564050>"
      ]
     },
     "execution_count": 200,
     "metadata": {},
     "output_type": "execute_result"
    },
    {
     "data": {
      "image/png": "[encoded data removed]",
      "text/plain": [
       "<Figure size 432x288 with 1 Axes>"
      ]
     },
     "metadata": {
      "needs_background": "light"
     },
     "output_type": "display_data"
    }
   ],
   "source": [
    "ax = stop_df[stop_df['wheelchair']].plot.scatter(x = 'x',y = 'y', c = 'red')\n",
    "stop_df[~stop_df['wheelchair']].plot.scatter(x = 'x',y = 'y', c = '0.7', ax = ax)"
   ]
  },
  {
   "cell_type": "code",
   "execution_count": 201,
   "metadata": {},
   "outputs": [
    {
     "data": {
      "image/png": "[encoded data removed]",
      "text/plain": [
       "<Figure size 432x288 with 1 Axes>"
      ]
     },
     "metadata": {
      "needs_background": "light"
     },
     "output_type": "display_data"
    }
   ],
   "source": [
    "import matplotlib.pyplot as plt\n",
    "fig, ax = plt.subplots()\n",
    "class WrapAx:\n",
    "    def __init__(self, ax):\n",
    "        self.ax = ax\n",
    "        # key: color: list of vals\n",
    "        self.x = dict()\n",
    "        self.y = dict()\n",
    "        self.vlines = []\n",
    "        self.hlines = []\n",
    "\n",
    "    def plot(self, *args, **kwargs):\n",
    "        # Example call: ax.plot((x, x), (y1, y2), 'y', lw=3, zorder=-10)\n",
    "        if len(args) >= 2 and isinstance(args[0], tuple) and isinstance(args[1], tuple):\n",
    "            if args[0][0] == args[0][1]:\n",
    "                # x values are the same, so it is vertical\n",
    "                self.vlines.append(args[0][0])\n",
    "            elif args[1][0] == args[1][1]:\n",
    "                # y values are the same, so it is horizontal\n",
    "                self.hlines.append(args[1][0])\n",
    "\n",
    "    def scatter(self, x, y, *args, **kwargs):\n",
    "        color = kwargs[\"c\"][0]\n",
    "        if not color in self.x:\n",
    "            self.x[color] = []\n",
    "            self.y[color] = []\n",
    "        self.x[color].extend(x)\n",
    "        self.y[color].extend(y)\n",
    "        self.ax.scatter(x, y, *args, **kwargs)\n",
    "\n",
    "    def __getattr__(self, attr):\n",
    "        return getattr(self.ax, attr)\n",
    "ax = WrapAx(ax)"
   ]
  },
  {
   "cell_type": "code",
   "execution_count": 202,
   "metadata": {},
   "outputs": [
    {
     "data": {
      "text/plain": [
       "<__main__.WrapAx at 0x12672a650>"
      ]
     },
     "execution_count": 202,
     "metadata": {},
     "output_type": "execute_result"
    }
   ],
   "source": [
    "stop_df[stop_df['wheelchair']].plot.scatter(x = 'x',y = 'y', c = 'red', ax = ax)\n",
    "stop_df[~stop_df['wheelchair']].plot.scatter(x = 'x',y = 'y', c = '0.7', ax = ax)"
   ]
  },
  {
   "cell_type": "code",
   "execution_count": 203,
   "metadata": {},
   "outputs": [],
   "source": [
    "bd = BusDay(datetime(2020, 2, 22))\n",
    "bd.scatter_stops(ax)"
   ]
  },
  {
   "cell_type": "code",
   "execution_count": 204,
   "metadata": {},
   "outputs": [
    {
     "data": {
      "text/plain": [
       "[<matplotlib.lines.Line2D at 0x124cc71d0>]"
      ]
     },
     "execution_count": 204,
     "metadata": {},
     "output_type": "execute_result"
    },
    {
     "data": {
      "image/png": "[encoded data removed]",
      "text/plain": [
       "<Figure size 432x288 with 1 Axes>"
      ]
     },
     "metadata": {
      "needs_background": "light"
     },
     "output_type": "display_data"
    }
   ],
   "source": [
    "ax = stop_df[stop_df['wheelchair']].plot.scatter(x = 'x',y = 'y', c = 'red')\n",
    "ax.plot((1, 1), (-8, 8), lw=5, color=\"purple\")"
   ]
  },
  {
   "cell_type": "code",
   "execution_count": 205,
   "metadata": {},
   "outputs": [
    {
     "data": {
      "text/plain": [
       "(-8.12343363603767, 5.751523879455499)"
      ]
     },
     "execution_count": 205,
     "metadata": {},
     "output_type": "execute_result"
    }
   ],
   "source": [
    "ax.get_xlim()"
   ]
  },
  {
   "cell_type": "code",
   "execution_count": 206,
   "metadata": {},
   "outputs": [
    {
     "data": {
      "text/plain": [
       "2"
      ]
     },
     "execution_count": 206,
     "metadata": {},
     "output_type": "execute_result"
    }
   ],
   "source": [
    "a=None\n",
    "\n",
    "a=2 if a==None else a\n",
    "a"
   ]
  },
  {
   "cell_type": "code",
   "execution_count": null,
   "metadata": {},
   "outputs": [],
   "source": []
  },
  {
   "cell_type": "markdown",
   "metadata": {},
   "source": [
    "Draw tree:"
   ]
  },
  {
   "cell_type": "code",
   "execution_count": 266,
   "metadata": {},
   "outputs": [],
   "source": [
    "from graphviz import Graph, Digraph\n",
    "class Node:\n",
    "    def __init__(self, stop_list, ver_split = 1, levels = 0): \n",
    "        self.left = None\n",
    "        self.right = None\n",
    "        self.ver_split = ver_split\n",
    "        self.leaf = True   ## added for draw_tree\n",
    "        if ver_split == 1:\n",
    "            stop_list.sort(key = lambda stop_obj: stop_obj.location_object.x)\n",
    "            self.split_val = stop_list[len(stop_list)//2].location_object.x\n",
    "        else:\n",
    "            stop_list.sort(key = lambda stop_obj: stop_obj.location_object.y)\n",
    "            self.split_val = stop_list[len(stop_list)//2].location_object.y\n",
    "        if levels <= 6:\n",
    "            #print(stop_list[:len(stop_list)//2],len(stop_list)//2)\n",
    "            self.left = Node(stop_list[:len(stop_list)//2],  -ver_split, levels + 1)\n",
    "            self.right = Node(stop_list[len(stop_list)//2:],  -ver_split, levels + 1) \n",
    "            self.leaf = False   ## added for draw_tree\n",
    "        \n",
    "        self_levels = levels\n",
    "        self.val = stop_list\n",
    "        \n",
    "    def to_graphviz(self, g=None):\n",
    "        if g == None:\n",
    "            g = Digraph()\n",
    "            \n",
    "        # draw self\n",
    "        g.node(repr(self.val))\n",
    "    \n",
    "        for label, child in [(\"L\", self.left), (\"R\", self.right)]:\n",
    "            if child != None:\n",
    "                # draw child, recursively\n",
    "                child.to_graphviz(g)\n",
    "                \n",
    "                # draw edge from self to child\n",
    "                g.edge(repr(self.val), repr(child.val), label=label)\n",
    "        return g\n",
    "    \n",
    "    def _repr_svg_(self):\n",
    "        return self.to_graphviz()._repr_svg_()\n",
    "    \n",
    "    def range_search(self, xlim, ylim, results=None):\n",
    "        if results == None:\n",
    "            results = []\n",
    "\n",
    "        if self.left == None and self.right == None:\n",
    "            for obj in self.val:\n",
    "                if xlim[0] <= obj.location_object.x <= xlim[1] and ylim[0] <= obj.location_object.y <= ylim[1]:\n",
    "                    results.append(obj)\n",
    "        else:\n",
    "            lim = xlim if self.ver_split == 1 else ylim\n",
    "            if lim[0] <= self.split_val:\n",
    "                self.left.range_search(xlim, ylim, results)\n",
    "            if lim[1] >= self.split_val:\n",
    "                self.right.range_search(xlim, ylim, results)\n",
    "        return results\n",
    "    \n",
    "    def draw_tree(self, ax, lw = 10, xlim = None, ylim = None):\n",
    "        if self.leaf == True:\n",
    "            return\n",
    "        xlim = ax.get_xlim() if xlim == None else xlim\n",
    "        ylim = ax.get_ylim() if ylim == None else ylim\n",
    "        \n",
    "        if self.ver_split == 1:\n",
    "            xlim_left = xlim[0]\n",
    "            xlim_mid = self.split_val\n",
    "            xlim_right = xlim[1]\n",
    "            \n",
    "            self.left.draw_tree(ax, lw = lw/2, xlim = (xlim_left,xlim_mid),ylim = ylim)\n",
    "            self.right.draw_tree(ax, lw = lw/2, xlim = (xlim_mid,xlim_right),ylim = ylim)\n",
    "            ax.plot((self.split_val,self.split_val),ylim,lw=lw, color=\"purple\",zorder=-10)\n",
    "\n",
    "        else:\n",
    "            ylim_left = ylim[0]\n",
    "            ylim_mid = self.split_val\n",
    "            ylim_right = ylim[1]\n",
    "            \n",
    "            self.left.draw_tree(ax, lw = lw/2, xlim = xlim,ylim = (ylim_left,ylim_mid))\n",
    "            self.right.draw_tree(ax, lw = lw/2, xlim = xlim,ylim = (ylim_mid,ylim_right))\n",
    "            ax.plot(xlim,(self.split_val,self.split_val),lw = lw, color=\"purple\", zorder=-10)\n",
    "        \n",
    "            \n",
    "        \n",
    "        \n"
   ]
  },
  {
   "cell_type": "code",
   "execution_count": 268,
   "metadata": {},
   "outputs": [
    {
     "data": {
      "image/png": "[encoded data removed]",
      "text/plain": [
       "<Figure size 432x288 with 1 Axes>"
      ]
     },
     "metadata": {
      "needs_background": "light"
     },
     "output_type": "display_data"
    }
   ],
   "source": [
    "import matplotlib.pyplot as plt\n",
    "fig, ax = plt.subplots()\n",
    "class WrapAx:\n",
    "    def __init__(self, ax):\n",
    "        self.ax = ax\n",
    "        # key: color: list of vals\n",
    "        self.x = dict()\n",
    "        self.y = dict()\n",
    "        self.vlines = []\n",
    "        self.hlines = []\n",
    "\n",
    "    def plot(self, *args, **kwargs):\n",
    "        # Example call: ax.plot((x, x), (y1, y2), 'y', lw=3, zorder=-10)\n",
    "        if len(args) >= 2 and isinstance(args[0], tuple) and isinstance(args[1], tuple):\n",
    "            if args[0][0] == args[0][1]:\n",
    "                # x values are the same, so it is vertical\n",
    "                self.vlines.append(args[0][0])\n",
    "            elif args[1][0] == args[1][1]:\n",
    "                # y values are the same, so it is horizontal\n",
    "                self.hlines.append(args[1][0])\n",
    "\n",
    "    def scatter(self, x, y, *args, **kwargs):\n",
    "        color = kwargs[\"c\"][0]\n",
    "        if not color in self.x:\n",
    "            self.x[color] = []\n",
    "            self.y[color] = []\n",
    "        self.x[color].extend(x)\n",
    "        self.y[color].extend(y)\n",
    "        self.ax.scatter(x, y, *args, **kwargs)\n",
    "\n",
    "    def __getattr__(self, attr):\n",
    "        return getattr(self.ax, attr)\n",
    "ax = WrapAx(ax)\n",
    "\n",
    "# stop_df[stop_df['wheelchair']].plot.scatter(x = 'x',y = 'y', c = 'red',s=2, ax=ax)\n",
    "# stop_df[~stop_df['wheelchair']].plot.scatter(x = 'x',y = 'y', c = '0.7',s=2, ax = ax)\n",
    "stops = bd.get_stops()\n",
    "BSTree = Node(stops)\n",
    "BSTree.draw_tree(ax)"
   ]
  },
  {
   "cell_type": "code",
   "execution_count": 269,
   "metadata": {},
   "outputs": [],
   "source": [
    "class BusDay:\n",
    "    with ZipFile('mmt_gtfs.zip') as zf:\n",
    "        with zf.open(\"calendar.txt\") as f:\n",
    "            calen = pd.read_csv(f)\n",
    "        with zf.open(\"trips.txt\") as f:\n",
    "            trips = pd.read_csv(f)\n",
    "        with zf.open(\"stop_times.txt\") as f:\n",
    "            stoptimes = pd.read_csv(f)\n",
    "        with zf.open(\"stops.txt\") as f:\n",
    "            stops = pd.read_csv(f)  \n",
    "        \n",
    "    def __init__(self, datetime):\n",
    "        self.datetime = datetime\n",
    "        self.numtime = int(self.datetime.strftime(\"%Y%m%d\"))\n",
    "        self.day = self.datetime.strftime(\"%A\").lower()\n",
    "        self.calender = BusDay.calen[BusDay.calen.start_date <= self.numtime]\n",
    "        self.calender = self.calender[self.calender.end_date >= self.numtime]\n",
    "        self.calender = self.calender[self.calender[self.day] == 1]\n",
    "        self.service_ids = list(self.calender['service_id'])\n",
    "        \n",
    "        self.triptable = BusDay.trips\n",
    "        self.triptable = self.triptable[self.triptable.service_id.isin(self.service_ids)].sort_values(by = 'trip_id', ascending = 1)\n",
    "        \n",
    "        self.trip_id = self.triptable.trip_id\n",
    "        self.stoptable = BusDay.stoptimes  ## stoptimes\n",
    "        self.stoptable = self.stoptable[self.stoptable.trip_id.isin(self.trip_id)].sort_values(by = 'stop_id', ascending = 1) ## table of stoptimes\n",
    "        \n",
    "        self.stop_id = self.stoptable.stop_id\n",
    "        self.stops = BusDay.stops ## info of stops location, no time/trip\n",
    "        self.stops = self.stops[self.stops.stop_id.isin(self.stop_id)].sort_values(by = 'stop_id', ascending = 1)\n",
    "        self.stops.loc[:,'wheelchair_boarding'] = self.stops['wheelchair_boarding'].apply(lambda x: True if x==1 else False)\n",
    "        \n",
    "    \n",
    "    def get_trips(self, route = None):\n",
    "        # self.triptable = BusDay.trips\n",
    "        if route != None:\n",
    "            # self.triptable = self.triptable[self.triptable.service_id.apply(lambda x: True if str(route) in x else False)]\n",
    "            self.triptable2 = self.triptable[self.triptable.route_short_name == route]\n",
    "        else:\n",
    "            self.triptable2 = self.triptable\n",
    "        \n",
    "        self.triptable2.loc[:,'bikes_allowed'] = self.triptable2['bikes_allowed'].apply(lambda x: True if x==1 else False)\n",
    "        self.triptable2 = self.triptable2[['trip_id', 'route_short_name', 'bikes_allowed']].values.tolist()\n",
    "        def to_Trip_object(item):\n",
    "            trip_id,route_id,bikes_allowed = item\n",
    "            return Trip(trip_id,route_id,bikes_allowed)\n",
    "        \n",
    "        self.triplist = list(map(to_Trip_object,self.triptable2))\n",
    "        return self.triplist\n",
    "    \n",
    "    def get_stops(self):\n",
    "        self.stops2 = self.stops[['stop_id', 'stop_lat', 'stop_lon', 'wheelchair_boarding']].values.tolist()\n",
    "        def to_Stop_object(item):\n",
    "            stop_id, stop_lat, stop_lon, wheelchair_boarding = item\n",
    "            Location_object = Location(latlon = (stop_lat, stop_lon))\n",
    "            return Stop(stop_id,Location_object,wheelchair_boarding)\n",
    "        self.stopslist = list(map(to_Stop_object, self.stops2))\n",
    "        return self.stopslist\n",
    "    \n",
    "    def get_stops_rect(self, xlim, ylim):\n",
    "        stops = self.get_stops()\n",
    "        BSTree = Node(stops)\n",
    "        return BSTree.range_search(xlim, ylim)\n",
    "        \n",
    "    def get_stops_circ(self, loc, radius):\n",
    "        stops = self.get_stops()\n",
    "        BSTree = Node(stops)\n",
    "        xlim = (loc[0] - radius, loc[0] + radius)\n",
    "        ylim = (loc[1] - radius, loc[1] + radius)\n",
    "        rec = BSTree.range_search(xlim, ylim)\n",
    "        center = Location(xy = loc)\n",
    "        return [stop for stop in rec if center.dist(stop.location_object) <= radius]\n",
    "    \n",
    "    def scatter_stops(self, ax):\n",
    "        stop_df = pd.DataFrame(list(map(lambda item: [item.location_object.x, item.location_object.y, item.wheelchair_boarding],self.get_stops())),\n",
    "             columns = ['x','y','wheelchair'])\n",
    "        stop_df[stop_df['wheelchair']].plot.scatter(x = 'x',y = 'y', c = 'red', ax = ax, s=2)\n",
    "        stop_df[~stop_df['wheelchair']].plot.scatter(x = 'x',y = 'y', c = '0.7', ax = ax,s=2)\n",
    "        \n",
    "    def draw_tree(self, ax):\n",
    "        stops = self.get_stops()\n",
    "        BSTree = Node(stops)\n",
    "        BSTree.draw_tree(ax)"
   ]
  },
  {
   "cell_type": "code",
   "execution_count": 271,
   "metadata": {},
   "outputs": [
    {
     "data": {
      "image/png": "[encoded data removed]",
      "text/plain": [
       "<Figure size 432x288 with 1 Axes>"
      ]
     },
     "metadata": {
      "needs_background": "light"
     },
     "output_type": "display_data"
    }
   ],
   "source": [
    "bd = BusDay(datetime(2020, 2, 22))\n",
    "ax = plt.axes()\n",
    "bd.scatter_stops(ax)\n",
    "bd.draw_tree(ax)"
   ]
  },
  {
   "cell_type": "code",
   "execution_count": 272,
   "metadata": {},
   "outputs": [
    {
     "data": {
      "image/png": "[encoded data removed]",
      "text/plain": [
       "<Figure size 432x288 with 1 Axes>"
      ]
     },
     "metadata": {
      "needs_background": "light"
     },
     "output_type": "display_data"
    }
   ],
   "source": [
    "ax = stop_df[stop_df['wheelchair']].plot.scatter(x = 'x',y = 'y', c = 'red',s=2)\n",
    "stop_df[~stop_df['wheelchair']].plot.scatter(x = 'x',y = 'y', c = '0.7',s=2, ax = ax)\n",
    "stops = bd.get_stops()\n",
    "BSTree = Node(stops)\n",
    "BSTree.draw_tree(ax)"
   ]
  },
  {
   "cell_type": "code",
   "execution_count": 274,
   "metadata": {},
   "outputs": [
    {
     "data": {
      "image/png": "[encoded data removed]",
      "text/plain": [
       "<Figure size 432x288 with 1 Axes>"
      ]
     },
     "metadata": {
      "needs_background": "light"
     },
     "output_type": "display_data"
    }
   ],
   "source": [
    "import matplotlib.pyplot as plt\n",
    "fig, ax = plt.subplots()\n",
    "class WrapAx:\n",
    "    def __init__(self, ax):\n",
    "        self.ax = ax\n",
    "        # key: color: list of vals\n",
    "        self.x = dict()\n",
    "        self.y = dict()\n",
    "        self.vlines = []\n",
    "        self.hlines = []\n",
    "\n",
    "    def plot(self, *args, **kwargs):\n",
    "        # Example call: ax.plot((x, x), (y1, y2), 'y', lw=3, zorder=-10)\n",
    "        if len(args) >= 2 and isinstance(args[0], tuple) and isinstance(args[1], tuple):\n",
    "            if args[0][0] == args[0][1]:\n",
    "                # x values are the same, so it is vertical\n",
    "                self.vlines.append(args[0][0])\n",
    "            elif args[1][0] == args[1][1]:\n",
    "                # y values are the same, so it is horizontal\n",
    "                self.hlines.append(args[1][0])\n",
    "\n",
    "    def scatter(self, x, y, *args, **kwargs):\n",
    "        color = kwargs[\"c\"][0]\n",
    "        if not color in self.x:\n",
    "            self.x[color] = []\n",
    "            self.y[color] = []\n",
    "        self.x[color].extend(x)\n",
    "        self.y[color].extend(y)\n",
    "        self.ax.scatter(x, y, *args, **kwargs)\n",
    "\n",
    "    def __getattr__(self, attr):\n",
    "        return getattr(self.ax, attr)\n",
    "ax = WrapAx(ax)\n",
    "\n",
    "stop_df[stop_df['wheelchair']].plot.scatter(x = 'x',y = 'y', c = 'red',s=2, ax=ax)\n",
    "stop_df[~stop_df['wheelchair']].plot.scatter(x = 'x',y = 'y', c = '0.7',s=2, ax = ax)\n",
    "stops = bd.get_stops()\n",
    "BSTree = Node(stops)\n",
    "BSTree.draw_tree(ax)"
   ]
  },
  {
   "cell_type": "code",
   "execution_count": null,
   "metadata": {},
   "outputs": [],
   "source": []
  }
 ],
 "metadata": {
  "kernelspec": {
   "display_name": "Python 3",
   "language": "python",
   "name": "python3"
  },
  "language_info": {
   "codemirror_mode": {
    "name": "ipython",
    "version": 3
   },
   "file_extension": ".py",
   "mimetype": "text/x-python",
   "name": "python",
   "nbconvert_exporter": "python",
   "pygments_lexer": "ipython3",
   "version": "3.7.4"
  }
 },
 "nbformat": 4,
 "nbformat_minor": 4
}

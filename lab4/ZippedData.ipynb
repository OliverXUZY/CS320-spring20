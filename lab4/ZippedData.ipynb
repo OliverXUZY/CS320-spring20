{
 "cells": [
  {
   "cell_type": "code",
   "execution_count": 1,
   "metadata": {},
   "outputs": [],
   "source": [
    "from zipfile import ZipFile"
   ]
  },
  {
   "cell_type": "code",
   "execution_count": 2,
   "metadata": {},
   "outputs": [
    {
     "name": "stdout",
     "output_type": "stream",
     "text": [
      "<ZipInfo filename='agency.txt' compress_type=deflate external_attr=0x20 file_size=363 compress_size=204>\n",
      "<ZipInfo filename='calendar.txt' compress_type=deflate external_attr=0x20 file_size=2450 compress_size=400>\n",
      "<ZipInfo filename='calendar_dates.txt' compress_type=deflate external_attr=0x20 file_size=3988 compress_size=602>\n",
      "<ZipInfo filename='extended_data_dictionary.txt' compress_type=deflate external_attr=0x20 file_size=6546 compress_size=2221>\n",
      "<ZipInfo filename='fare_attributes.txt' compress_type=deflate external_attr=0x20 file_size=126 compress_size=99>\n",
      "<ZipInfo filename='fare_rules.txt' compress_type=deflate external_attr=0x20 file_size=1024 compress_size=253>\n",
      "<ZipInfo filename='feed_info.txt' compress_type=deflate external_attr=0x20 file_size=298 compress_size=178>\n",
      "<ZipInfo filename='linked_datasets.txt' compress_type=deflate external_attr=0x20 file_size=251 compress_size=128>\n",
      "<ZipInfo filename='routes.txt' compress_type=deflate external_attr=0x20 file_size=33156 compress_size=2952>\n",
      "<ZipInfo filename='shapes.txt' compress_type=deflate external_attr=0x20 file_size=10341920 compress_size=2291431>\n",
      "<ZipInfo filename='stop_features.txt' compress_type=deflate external_attr=0x20 file_size=9566 compress_size=2388>\n",
      "<ZipInfo filename='stop_times.txt' compress_type=deflate external_attr=0x20 file_size=36909825 compress_size=5712510>\n",
      "<ZipInfo filename='stops.txt' compress_type=deflate external_attr=0x20 file_size=401411 compress_size=89220>\n",
      "<ZipInfo filename='terms_of_use.txt' compress_type=deflate external_attr=0x20 file_size=5993 compress_size=2491>\n",
      "<ZipInfo filename='transfers.txt' compress_type=deflate external_attr=0x20 file_size=480 compress_size=200>\n",
      "<ZipInfo filename='translations.txt' compress_type=deflate external_attr=0x20 file_size=9863 compress_size=666>\n",
      "<ZipInfo filename='trips.txt' compress_type=deflate external_attr=0x20 file_size=1399179 compress_size=167219>\n"
     ]
    }
   ],
   "source": [
    "with ZipFile('mmt_gtfs.zip') as zf:\n",
    "    for info in zf.infolist():\n",
    "        print(info)"
   ]
  },
  {
   "cell_type": "code",
   "execution_count": 3,
   "metadata": {},
   "outputs": [
    {
     "name": "stdout",
     "output_type": "stream",
     "text": [
      "file agency.txt, 0.000 MB (uncompressed), 1.8 compression ratio\n",
      "file calendar.txt, 0.002 MB (uncompressed), 6.1 compression ratio\n",
      "file calendar_dates.txt, 0.004 MB (uncompressed), 6.6 compression ratio\n",
      "file extended_data_dictionary.txt, 0.006 MB (uncompressed), 2.9 compression ratio\n",
      "file fare_attributes.txt, 0.000 MB (uncompressed), 1.3 compression ratio\n",
      "file fare_rules.txt, 0.001 MB (uncompressed), 4.0 compression ratio\n",
      "file feed_info.txt, 0.000 MB (uncompressed), 1.7 compression ratio\n",
      "file linked_datasets.txt, 0.000 MB (uncompressed), 2.0 compression ratio\n",
      "file routes.txt, 0.032 MB (uncompressed), 11.2 compression ratio\n",
      "file shapes.txt, 9.863 MB (uncompressed), 4.5 compression ratio\n",
      "file stop_features.txt, 0.009 MB (uncompressed), 4.0 compression ratio\n",
      "file stop_times.txt, 35.200 MB (uncompressed), 6.5 compression ratio\n",
      "file stops.txt, 0.383 MB (uncompressed), 4.5 compression ratio\n",
      "file terms_of_use.txt, 0.006 MB (uncompressed), 2.4 compression ratio\n",
      "file transfers.txt, 0.000 MB (uncompressed), 2.4 compression ratio\n",
      "file translations.txt, 0.009 MB (uncompressed), 14.8 compression ratio\n",
      "file trips.txt, 1.334 MB (uncompressed), 8.4 compression ratio\n"
     ]
    }
   ],
   "source": [
    "with ZipFile('mmt_gtfs.zip') as zf:\n",
    "    for info in zf.infolist():\n",
    "        orig_mb = info.file_size / (1024**2) # there are 1024**2 bytes in a MB\n",
    "        ratio = info.file_size / info.compress_size\n",
    "        s = \"file {name:s}, {mb:.3f} MB (uncompressed), {ratio:.1f} compression ratio\"\n",
    "        print(s.format(name=info.filename, mb=orig_mb, ratio=ratio))"
   ]
  },
  {
   "cell_type": "code",
   "execution_count": 5,
   "metadata": {},
   "outputs": [
    {
     "data": {
      "text/plain": [
       "5.9380487170443415"
      ]
     },
     "execution_count": 5,
     "metadata": {},
     "output_type": "execute_result"
    }
   ],
   "source": [
    "with ZipFile('mmt_gtfs.zip') as zf:\n",
    "    filesize=0\n",
    "    comsize=0\n",
    "    for info in zf.infolist():\n",
    "        filesize += info.file_size \n",
    "        comsize += info.compress_size\n",
    "filesize/comsize"
   ]
  },
  {
   "cell_type": "code",
   "execution_count": 9,
   "metadata": {},
   "outputs": [
    {
     "name": "stdout",
     "output_type": "stream",
     "text": [
      "b'service_id,service_name,monday,tuesday,wednesday,thursday,friday,saturday,sunday,start_date,end_date\\r\\n88_D24,December 24,0,0,0,0,0,0,0,20191201,20200229\\r\\n88_D31,December 31,0,0,0,0,0,0,0,20191201,20200229\\r\\n88_HOL,Holiday,0,0,0,0,0,0,0,20191201,20200229\\r\\n88_MWK,Modified,0,0,0,0,0,0,0,20191201,20200229\\r\\n88_MWK:R,Recess Modified,0,0,0,0,0,0,0,20191201,20200229\\r\\n88_SAT,Saturday,0,0,0,0,0,1,0,20191201,20200229\\r\\n88_SAT:L,Latenight Saturday,0,0,0,0,0,1,0,20191201,20200229\\r\\n88_SAT:R,Recess Saturday,0,0,0,0,0,0,0,20191201,20200229\\r\\n88_SAT:S,Standard Saturday,0,0,0,0,0,1,0,20191201,20200229\\r\\n88_SUN,Sunday,0,0,0,0,0,0,1,20191201,20200229\\r\\n88_SUN:L,Latenight Sunday,0,0,0,0,0,0,1,20191201,20200229\\r\\n88_SUN:R,Recess Sunday,0,0,0,0,0,0,0,20191201,20200229\\r\\n88_SUN:S,Standard Sunday,0,0,0,0,0,0,1,20191201,20200229\\r\\n88_WKD,Weekday,1,1,1,1,1,0,0,20191201,20200229\\r\\n88_WKD:G,Weekday Extra,1,1,1,1,1,0,0,20191201,20200229\\r\\n88_WKD:L#6,Latenight Mon-Thu,1,1,1,1,0,0,0,20191201,20200229\\r\\n88_WKD:L=6,Latenight Fri only,0,0,0,0,1,0,0,20191201,20200229\\r\\n88_WKD:R,Recess Weekday,0,0,0,0,0,0,0,20191201,20200229\\r\\n88_WKD:S,Standard Weekday,1,1,1,1,1,0,0,20191201,20200229\\r\\n88_WKD:S#6,Standard Mon-Thu,1,1,1,1,0,0,0,20191201,20200229\\r\\n88_WKD:S=6,Standard Fri only,0,0,0,0,1,0,0,20191201,20200229\\r\\n89_D24,December 24,0,0,0,0,0,0,0,20200301,20200509\\r\\n89_D31,December 31,0,0,0,0,0,0,0,20200301,20200509\\r\\n89_HOL,Holiday,0,0,0,0,0,0,0,20200301,20200509\\r\\n89_MWK,Modified,0,0,0,0,0,0,0,20200301,20200509\\r\\n89_MWK:R,Recess Modified,0,0,0,0,0,0,0,20200301,20200509\\r\\n89_SAT,Saturday,0,0,0,0,0,1,0,20200301,20200509\\r\\n89_SAT:L,Latenight Saturday,0,0,0,0,0,1,0,20200301,20200509\\r\\n89_SAT:R,Recess Saturday,0,0,0,0,0,0,0,20200301,20200509\\r\\n89_SAT:S,Standard Saturday,0,0,0,0,0,1,0,20200301,20200509\\r\\n89_SUN,Sunday,0,0,0,0,0,0,1,20200301,20200509\\r\\n89_SUN:L,Latenight Sunday,0,0,0,0,0,0,1,20200301,20200509\\r\\n89_SUN:R,Recess Sunday,0,0,0,0,0,0,0,20200301,20200509\\r\\n89_SUN:S,Standard Sunday,0,0,0,0,0,0,1,20200301,20200509\\r\\n89_WKD,Weekday,1,1,1,1,1,0,0,20200301,20200509\\r\\n89_WKD:G,Weekday Extra,1,1,1,1,1,0,0,20200301,20200509\\r\\n89_WKD:L#6,Latenight Mon-Thu,1,1,1,1,0,0,0,20200301,20200509\\r\\n89_WKD:L=6,Latenight Fri only,0,0,0,0,1,0,0,20200301,20200509\\r\\n89_WKD:R,Recess Weekday,0,0,0,0,0,0,0,20200301,20200509\\r\\n89_WKD:S,Standard Weekday,1,1,1,1,1,0,0,20200301,20200509\\r\\n89_WKD:S#6,Standard Mon-Thu,1,1,1,1,0,0,0,20200301,20200509\\r\\n89_WKD:S=6,Standard Fri only,0,0,0,0,1,0,0,20200301,20200509'\n"
     ]
    }
   ],
   "source": [
    "with ZipFile('mmt_gtfs.zip') as zf:\n",
    "    with zf.open(\"calendar.txt\") as f:\n",
    "        print(f.read())"
   ]
  },
  {
   "cell_type": "code",
   "execution_count": 10,
   "metadata": {},
   "outputs": [
    {
     "data": {
      "text/html": [
       "<div>\n",
       "<style scoped>\n",
       "    .dataframe tbody tr th:only-of-type {\n",
       "        vertical-align: middle;\n",
       "    }\n",
       "\n",
       "    .dataframe tbody tr th {\n",
       "        vertical-align: top;\n",
       "    }\n",
       "\n",
       "    .dataframe thead th {\n",
       "        text-align: right;\n",
       "    }\n",
       "</style>\n",
       "<table border=\"1\" class=\"dataframe\">\n",
       "  <thead>\n",
       "    <tr style=\"text-align: right;\">\n",
       "      <th></th>\n",
       "      <th>service_id</th>\n",
       "      <th>service_name</th>\n",
       "      <th>monday</th>\n",
       "      <th>tuesday</th>\n",
       "      <th>wednesday</th>\n",
       "      <th>thursday</th>\n",
       "      <th>friday</th>\n",
       "      <th>saturday</th>\n",
       "      <th>sunday</th>\n",
       "      <th>start_date</th>\n",
       "      <th>end_date</th>\n",
       "    </tr>\n",
       "  </thead>\n",
       "  <tbody>\n",
       "    <tr>\n",
       "      <th>0</th>\n",
       "      <td>88_D24</td>\n",
       "      <td>December 24</td>\n",
       "      <td>0</td>\n",
       "      <td>0</td>\n",
       "      <td>0</td>\n",
       "      <td>0</td>\n",
       "      <td>0</td>\n",
       "      <td>0</td>\n",
       "      <td>0</td>\n",
       "      <td>20191201</td>\n",
       "      <td>20200229</td>\n",
       "    </tr>\n",
       "    <tr>\n",
       "      <th>1</th>\n",
       "      <td>88_D31</td>\n",
       "      <td>December 31</td>\n",
       "      <td>0</td>\n",
       "      <td>0</td>\n",
       "      <td>0</td>\n",
       "      <td>0</td>\n",
       "      <td>0</td>\n",
       "      <td>0</td>\n",
       "      <td>0</td>\n",
       "      <td>20191201</td>\n",
       "      <td>20200229</td>\n",
       "    </tr>\n",
       "    <tr>\n",
       "      <th>2</th>\n",
       "      <td>88_HOL</td>\n",
       "      <td>Holiday</td>\n",
       "      <td>0</td>\n",
       "      <td>0</td>\n",
       "      <td>0</td>\n",
       "      <td>0</td>\n",
       "      <td>0</td>\n",
       "      <td>0</td>\n",
       "      <td>0</td>\n",
       "      <td>20191201</td>\n",
       "      <td>20200229</td>\n",
       "    </tr>\n",
       "    <tr>\n",
       "      <th>3</th>\n",
       "      <td>88_MWK</td>\n",
       "      <td>Modified</td>\n",
       "      <td>0</td>\n",
       "      <td>0</td>\n",
       "      <td>0</td>\n",
       "      <td>0</td>\n",
       "      <td>0</td>\n",
       "      <td>0</td>\n",
       "      <td>0</td>\n",
       "      <td>20191201</td>\n",
       "      <td>20200229</td>\n",
       "    </tr>\n",
       "    <tr>\n",
       "      <th>4</th>\n",
       "      <td>88_MWK:R</td>\n",
       "      <td>Recess Modified</td>\n",
       "      <td>0</td>\n",
       "      <td>0</td>\n",
       "      <td>0</td>\n",
       "      <td>0</td>\n",
       "      <td>0</td>\n",
       "      <td>0</td>\n",
       "      <td>0</td>\n",
       "      <td>20191201</td>\n",
       "      <td>20200229</td>\n",
       "    </tr>\n",
       "  </tbody>\n",
       "</table>\n",
       "</div>"
      ],
      "text/plain": [
       "  service_id     service_name  monday  tuesday  wednesday  thursday  friday  \\\n",
       "0     88_D24      December 24       0        0          0         0       0   \n",
       "1     88_D31      December 31       0        0          0         0       0   \n",
       "2     88_HOL          Holiday       0        0          0         0       0   \n",
       "3     88_MWK         Modified       0        0          0         0       0   \n",
       "4   88_MWK:R  Recess Modified       0        0          0         0       0   \n",
       "\n",
       "   saturday  sunday  start_date  end_date  \n",
       "0         0       0    20191201  20200229  \n",
       "1         0       0    20191201  20200229  \n",
       "2         0       0    20191201  20200229  \n",
       "3         0       0    20191201  20200229  \n",
       "4         0       0    20191201  20200229  "
      ]
     },
     "execution_count": 10,
     "metadata": {},
     "output_type": "execute_result"
    }
   ],
   "source": [
    "import pandas as pd\n",
    "\n",
    "with ZipFile('mmt_gtfs.zip') as zf:\n",
    "    with zf.open(\"calendar.txt\") as f:\n",
    "        df = pd.read_csv(f)\n",
    "\n",
    "df.head()"
   ]
  },
  {
   "cell_type": "code",
   "execution_count": 11,
   "metadata": {},
   "outputs": [
    {
     "data": {
      "text/html": [
       "<div>\n",
       "<style scoped>\n",
       "    .dataframe tbody tr th:only-of-type {\n",
       "        vertical-align: middle;\n",
       "    }\n",
       "\n",
       "    .dataframe tbody tr th {\n",
       "        vertical-align: top;\n",
       "    }\n",
       "\n",
       "    .dataframe thead th {\n",
       "        text-align: right;\n",
       "    }\n",
       "</style>\n",
       "<table border=\"1\" class=\"dataframe\">\n",
       "  <thead>\n",
       "    <tr style=\"text-align: right;\">\n",
       "      <th></th>\n",
       "      <th>service_id</th>\n",
       "      <th>service_name</th>\n",
       "      <th>monday</th>\n",
       "      <th>tuesday</th>\n",
       "      <th>wednesday</th>\n",
       "      <th>thursday</th>\n",
       "      <th>friday</th>\n",
       "      <th>saturday</th>\n",
       "      <th>sunday</th>\n",
       "      <th>start_date</th>\n",
       "      <th>end_date</th>\n",
       "    </tr>\n",
       "  </thead>\n",
       "  <tbody>\n",
       "    <tr>\n",
       "      <th>5</th>\n",
       "      <td>88_SAT</td>\n",
       "      <td>Saturday</td>\n",
       "      <td>0</td>\n",
       "      <td>0</td>\n",
       "      <td>0</td>\n",
       "      <td>0</td>\n",
       "      <td>0</td>\n",
       "      <td>1</td>\n",
       "      <td>0</td>\n",
       "      <td>20191201</td>\n",
       "      <td>20200229</td>\n",
       "    </tr>\n",
       "    <tr>\n",
       "      <th>6</th>\n",
       "      <td>88_SAT:L</td>\n",
       "      <td>Latenight Saturday</td>\n",
       "      <td>0</td>\n",
       "      <td>0</td>\n",
       "      <td>0</td>\n",
       "      <td>0</td>\n",
       "      <td>0</td>\n",
       "      <td>1</td>\n",
       "      <td>0</td>\n",
       "      <td>20191201</td>\n",
       "      <td>20200229</td>\n",
       "    </tr>\n",
       "    <tr>\n",
       "      <th>8</th>\n",
       "      <td>88_SAT:S</td>\n",
       "      <td>Standard Saturday</td>\n",
       "      <td>0</td>\n",
       "      <td>0</td>\n",
       "      <td>0</td>\n",
       "      <td>0</td>\n",
       "      <td>0</td>\n",
       "      <td>1</td>\n",
       "      <td>0</td>\n",
       "      <td>20191201</td>\n",
       "      <td>20200229</td>\n",
       "    </tr>\n",
       "    <tr>\n",
       "      <th>26</th>\n",
       "      <td>89_SAT</td>\n",
       "      <td>Saturday</td>\n",
       "      <td>0</td>\n",
       "      <td>0</td>\n",
       "      <td>0</td>\n",
       "      <td>0</td>\n",
       "      <td>0</td>\n",
       "      <td>1</td>\n",
       "      <td>0</td>\n",
       "      <td>20200301</td>\n",
       "      <td>20200509</td>\n",
       "    </tr>\n",
       "    <tr>\n",
       "      <th>27</th>\n",
       "      <td>89_SAT:L</td>\n",
       "      <td>Latenight Saturday</td>\n",
       "      <td>0</td>\n",
       "      <td>0</td>\n",
       "      <td>0</td>\n",
       "      <td>0</td>\n",
       "      <td>0</td>\n",
       "      <td>1</td>\n",
       "      <td>0</td>\n",
       "      <td>20200301</td>\n",
       "      <td>20200509</td>\n",
       "    </tr>\n",
       "    <tr>\n",
       "      <th>29</th>\n",
       "      <td>89_SAT:S</td>\n",
       "      <td>Standard Saturday</td>\n",
       "      <td>0</td>\n",
       "      <td>0</td>\n",
       "      <td>0</td>\n",
       "      <td>0</td>\n",
       "      <td>0</td>\n",
       "      <td>1</td>\n",
       "      <td>0</td>\n",
       "      <td>20200301</td>\n",
       "      <td>20200509</td>\n",
       "    </tr>\n",
       "  </tbody>\n",
       "</table>\n",
       "</div>"
      ],
      "text/plain": [
       "   service_id        service_name  monday  tuesday  wednesday  thursday  \\\n",
       "5      88_SAT            Saturday       0        0          0         0   \n",
       "6    88_SAT:L  Latenight Saturday       0        0          0         0   \n",
       "8    88_SAT:S   Standard Saturday       0        0          0         0   \n",
       "26     89_SAT            Saturday       0        0          0         0   \n",
       "27   89_SAT:L  Latenight Saturday       0        0          0         0   \n",
       "29   89_SAT:S   Standard Saturday       0        0          0         0   \n",
       "\n",
       "    friday  saturday  sunday  start_date  end_date  \n",
       "5        0         1       0    20191201  20200229  \n",
       "6        0         1       0    20191201  20200229  \n",
       "8        0         1       0    20191201  20200229  \n",
       "26       0         1       0    20200301  20200509  \n",
       "27       0         1       0    20200301  20200509  \n",
       "29       0         1       0    20200301  20200509  "
      ]
     },
     "execution_count": 11,
     "metadata": {},
     "output_type": "execute_result"
    }
   ],
   "source": [
    "df[df.saturday == 1]"
   ]
  },
  {
   "cell_type": "code",
   "execution_count": null,
   "metadata": {},
   "outputs": [],
   "source": []
  },
  {
   "cell_type": "code",
   "execution_count": null,
   "metadata": {},
   "outputs": [],
   "source": []
  },
  {
   "cell_type": "code",
   "execution_count": null,
   "metadata": {},
   "outputs": [],
   "source": []
  },
  {
   "cell_type": "code",
   "execution_count": null,
   "metadata": {},
   "outputs": [],
   "source": []
  },
  {
   "cell_type": "code",
   "execution_count": null,
   "metadata": {},
   "outputs": [],
   "source": []
  },
  {
   "cell_type": "code",
   "execution_count": null,
   "metadata": {},
   "outputs": [],
   "source": []
  },
  {
   "cell_type": "code",
   "execution_count": null,
   "metadata": {},
   "outputs": [],
   "source": []
  }
 ],
 "metadata": {
  "kernelspec": {
   "display_name": "Python 3",
   "language": "python",
   "name": "python3"
  },
  "language_info": {
   "codemirror_mode": {
    "name": "ipython",
    "version": 3
   },
   "file_extension": ".py",
   "mimetype": "text/x-python",
   "name": "python",
   "nbconvert_exporter": "python",
   "pygments_lexer": "ipython3",
   "version": "3.6.9"
  }
 },
 "nbformat": 4,
 "nbformat_minor": 4
}

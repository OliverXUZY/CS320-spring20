{
 "cells": [
  {
   "cell_type": "markdown",
   "metadata": {},
   "source": [
    "### This demo follows https://github.com/tylerharter/cs320/blob/master/s20/lab5/README.md"
   ]
  },
  {
   "cell_type": "markdown",
   "metadata": {},
   "source": [
    "# Part 1"
   ]
  },
  {
   "cell_type": "code",
   "execution_count": 3,
   "metadata": {},
   "outputs": [],
   "source": [
    "from graphviz import Graph, Digraph"
   ]
  },
  {
   "cell_type": "code",
   "execution_count": 4,
   "metadata": {},
   "outputs": [],
   "source": [
    "class Node():\n",
    "    def __init__(self, key, val):\n",
    "        self.key = key\n",
    "        self.val = val\n",
    "        self.left = None\n",
    "        self.right = None"
   ]
  },
  {
   "cell_type": "code",
   "execution_count": 5,
   "metadata": {},
   "outputs": [],
   "source": [
    "class BST():\n",
    "    def __init__(self):\n",
    "        self.root = None\n",
    "        self.size = 0\n",
    "\n",
    "    def add(self, key, val):\n",
    "        if self.root == None:\n",
    "            self.root = Node(key, val)\n",
    "            self.size += 1\n",
    "\n",
    "        start = self.root\n",
    "        while True:\n",
    "            if key == start.key:\n",
    "                start.val = val\n",
    "                return\n",
    "            elif key < start.key:\n",
    "                if start.left == None:\n",
    "                    start.left = Node(key, val)\n",
    "                    self.size += 1\n",
    "                    return\n",
    "                start = start.left\n",
    "            else:\n",
    "                if start.right == None:\n",
    "                    start.right = Node(key, val)\n",
    "                    self.size += 1\n",
    "                    return\n",
    "                start = start.right\n",
    "    def __len__(self):\n",
    "        return self.size\n",
    "    \n",
    "    def __dump(self, node):\n",
    "        if node == None:\n",
    "            return\n",
    "        self.__dump(node.left)          # C\n",
    "        print(node.key, \": \", node.val) # B\n",
    "\n",
    "        self.__dump(node.right)         # A\n",
    "       \n",
    "    def dump(self):\n",
    "        self.__dump(self.root)\n",
    "        \n",
    "    def __setitem__(self, key, val):\n",
    "        self.add(key, val)\n",
    "    \n",
    "    def __lookup(self, node, key):\n",
    "        if node == None:\n",
    "            return None # default\n",
    "        elif node.key == key:\n",
    "            return node.val\n",
    "        elif key < node.key:\n",
    "            return self.__lookup(node.left, key)\n",
    "        else:\n",
    "            assert key > node.key\n",
    "            return self.__lookup(node.right, key)\n",
    "\n",
    "    def __getitem__(self, key):\n",
    "        return self.__lookup(self.root, key)\n",
    "    \n",
    "    ## vis\n",
    "    def __graphviz(self, g, node):\n",
    "        g.node(node.key)\n",
    "        for label, child in [(\"L\", node.left), (\"R\", node.right)]:\n",
    "            if child != None:\n",
    "                self.__graphviz(g, child)\n",
    "                g.edge(node.key, child.key, label=label)\n",
    "    \n",
    "    def _repr_svg_(self):\n",
    "        g = Digraph()\n",
    "        if self.root != None:\n",
    "            self.__graphviz(g, self.root)\n",
    "        return g._repr_svg_()\n",
    "    \n",
    "    def _max_depth(self, node = None):\n",
    "        if node is None or (node.left is None and node.right is None):\n",
    "            return 0\n",
    "        return 1 + max(self._max_depth(node.left), self._max_depth(node.right))\n",
    "    \n",
    "    def max_depth(self):\n",
    "        return self._max_depth(self.root)\n",
    "        "
   ]
  },
  {
   "cell_type": "code",
   "execution_count": 6,
   "metadata": {},
   "outputs": [
    {
     "data": {
      "text/plain": [
       "3"
      ]
     },
     "execution_count": 6,
     "metadata": {},
     "output_type": "execute_result"
    }
   ],
   "source": [
    "t = BST()\n",
    "t.add(\"B\", 3)\n",
    "t.add(\"A\", 2)\n",
    "t.add(\"C\", 1)\n",
    "t.add(\"D\", 4)\n",
    "t.add(\"E\", 5)\n",
    "\n",
    "t.max_depth()"
   ]
  },
  {
   "cell_type": "code",
   "execution_count": 7,
   "metadata": {},
   "outputs": [],
   "source": [
    "t = BST()\n",
    "t.add(\"B\", 3)\n",
    "assert t.size == 1\n",
    "t.add(\"A\", 2)\n",
    "assert t.size == 2\n",
    "t.add(\"C\", 1)\n",
    "assert t.size == 3\n",
    "t.add(\"C\", 4)\n",
    "assert t.size == 3"
   ]
  },
  {
   "cell_type": "code",
   "execution_count": 8,
   "metadata": {},
   "outputs": [],
   "source": [
    "t = BST()\n",
    "t.add(\"B\", 3)\n",
    "assert len(t) == 1\n",
    "t.add(\"A\", 2)\n",
    "assert len(t) == 2\n",
    "t.add(\"C\", 1)\n",
    "assert len(t) == 3\n",
    "t.add(\"C\", 4)\n",
    "assert len(t) == 3"
   ]
  },
  {
   "cell_type": "code",
   "execution_count": 9,
   "metadata": {},
   "outputs": [
    {
     "name": "stdout",
     "output_type": "stream",
     "text": [
      "A :  2\n",
      "B :  3\n",
      "C :  4\n"
     ]
    }
   ],
   "source": [
    "t.dump()"
   ]
  },
  {
   "cell_type": "code",
   "execution_count": 10,
   "metadata": {},
   "outputs": [
    {
     "name": "stdout",
     "output_type": "stream",
     "text": [
      "A :  2\n",
      "B :  3\n",
      "C :  4\n"
     ]
    }
   ],
   "source": [
    "t = BST()\n",
    "t[\"B\"] = 3\n",
    "t[\"A\"] = 2\n",
    "t[\"C\"] = 1\n",
    "t[\"C\"] = 4\n",
    "t.dump()"
   ]
  },
  {
   "cell_type": "code",
   "execution_count": 11,
   "metadata": {},
   "outputs": [
    {
     "name": "stdout",
     "output_type": "stream",
     "text": [
      "None\n",
      "1\n",
      "2\n",
      "3\n"
     ]
    }
   ],
   "source": [
    "t = BST()\n",
    "\n",
    "# test default\n",
    "print(t[\"default\"])\n",
    "\n",
    "# test root\n",
    "t[\"B\"] = 1\n",
    "print(t[\"B\"])\n",
    "\n",
    "# test right child\n",
    "t[\"C\"] = 2\n",
    "print(t[\"C\"])\n",
    "\n",
    "# test update\n",
    "t[\"B\"] = 3\n",
    "print(t[\"B\"])"
   ]
  },
  {
   "cell_type": "code",
   "execution_count": 12,
   "metadata": {},
   "outputs": [
    {
     "name": "stdout",
     "output_type": "stream",
     "text": [
      "0\n"
     ]
    }
   ],
   "source": [
    "t[\"A\"] = 0\n",
    "print(t[\"A\"])"
   ]
  },
  {
   "cell_type": "code",
   "execution_count": 13,
   "metadata": {},
   "outputs": [
    {
     "data": {
      "image/svg+xml": [
       "<?xml version=\"1.0\" encoding=\"UTF-8\" standalone=\"no\"?>\n",
       "<!DOCTYPE svg PUBLIC \"-//W3C//DTD SVG 1.1//EN\"\n",
       " \"http://www.w3.org/Graphics/SVG/1.1/DTD/svg11.dtd\">\n",
       "<!-- Generated by graphviz version 2.44.0 (20200408.0750)\n",
       " -->\n",
       "<!-- Pages: 1 -->\n",
       "<svg width=\"206pt\" height=\"305pt\"\n",
       " viewBox=\"0.00 0.00 206.00 305.00\" xmlns=\"http://www.w3.org/2000/svg\" xmlns:xlink=\"http://www.w3.org/1999/xlink\">\n",
       "<g id=\"graph0\" class=\"graph\" transform=\"scale(1 1) rotate(0) translate(4 301)\">\n",
       "<polygon fill=\"white\" stroke=\"transparent\" points=\"-4,4 -4,-301 202,-301 202,4 -4,4\"/>\n",
       "<!-- D -->\n",
       "<g id=\"node1\" class=\"node\">\n",
       "<title>D</title>\n",
       "<ellipse fill=\"none\" stroke=\"black\" cx=\"63\" cy=\"-279\" rx=\"27\" ry=\"18\"/>\n",
       "<text text-anchor=\"middle\" x=\"63\" y=\"-275.3\" font-family=\"Times,serif\" font-size=\"14.00\">D</text>\n",
       "</g>\n",
       "<!-- A -->\n",
       "<g id=\"node2\" class=\"node\">\n",
       "<title>A</title>\n",
       "<ellipse fill=\"none\" stroke=\"black\" cx=\"27\" cy=\"-192\" rx=\"27\" ry=\"18\"/>\n",
       "<text text-anchor=\"middle\" x=\"27\" y=\"-188.3\" font-family=\"Times,serif\" font-size=\"14.00\">A</text>\n",
       "</g>\n",
       "<!-- D&#45;&gt;A -->\n",
       "<g id=\"edge3\" class=\"edge\">\n",
       "<title>D&#45;&gt;A</title>\n",
       "<path fill=\"none\" stroke=\"black\" d=\"M55.89,-261.21C50.78,-249.14 43.79,-232.64 37.97,-218.89\"/>\n",
       "<polygon fill=\"black\" stroke=\"black\" points=\"41.1,-217.31 33.98,-209.47 34.65,-220.04 41.1,-217.31\"/>\n",
       "<text text-anchor=\"middle\" x=\"52.5\" y=\"-231.8\" font-family=\"Times,serif\" font-size=\"14.00\">L</text>\n",
       "</g>\n",
       "<!-- F -->\n",
       "<g id=\"node5\" class=\"node\">\n",
       "<title>F</title>\n",
       "<ellipse fill=\"none\" stroke=\"black\" cx=\"99\" cy=\"-192\" rx=\"27\" ry=\"18\"/>\n",
       "<text text-anchor=\"middle\" x=\"99\" y=\"-188.3\" font-family=\"Times,serif\" font-size=\"14.00\">F</text>\n",
       "</g>\n",
       "<!-- D&#45;&gt;F -->\n",
       "<g id=\"edge6\" class=\"edge\">\n",
       "<title>D&#45;&gt;F</title>\n",
       "<path fill=\"none\" stroke=\"black\" d=\"M70.11,-261.21C75.22,-249.14 82.21,-232.64 88.03,-218.89\"/>\n",
       "<polygon fill=\"black\" stroke=\"black\" points=\"91.35,-220.04 92.02,-209.47 84.9,-217.31 91.35,-220.04\"/>\n",
       "<text text-anchor=\"middle\" x=\"89\" y=\"-231.8\" font-family=\"Times,serif\" font-size=\"14.00\">R</text>\n",
       "</g>\n",
       "<!-- B -->\n",
       "<g id=\"node3\" class=\"node\">\n",
       "<title>B</title>\n",
       "<ellipse fill=\"none\" stroke=\"black\" cx=\"27\" cy=\"-105\" rx=\"27\" ry=\"18\"/>\n",
       "<text text-anchor=\"middle\" x=\"27\" y=\"-101.3\" font-family=\"Times,serif\" font-size=\"14.00\">B</text>\n",
       "</g>\n",
       "<!-- A&#45;&gt;B -->\n",
       "<g id=\"edge2\" class=\"edge\">\n",
       "<title>A&#45;&gt;B</title>\n",
       "<path fill=\"none\" stroke=\"black\" d=\"M27,-173.8C27,-162.16 27,-146.55 27,-133.24\"/>\n",
       "<polygon fill=\"black\" stroke=\"black\" points=\"30.5,-133.18 27,-123.18 23.5,-133.18 30.5,-133.18\"/>\n",
       "<text text-anchor=\"middle\" x=\"32\" y=\"-144.8\" font-family=\"Times,serif\" font-size=\"14.00\">R</text>\n",
       "</g>\n",
       "<!-- C -->\n",
       "<g id=\"node4\" class=\"node\">\n",
       "<title>C</title>\n",
       "<ellipse fill=\"none\" stroke=\"black\" cx=\"27\" cy=\"-18\" rx=\"27\" ry=\"18\"/>\n",
       "<text text-anchor=\"middle\" x=\"27\" y=\"-14.3\" font-family=\"Times,serif\" font-size=\"14.00\">C</text>\n",
       "</g>\n",
       "<!-- B&#45;&gt;C -->\n",
       "<g id=\"edge1\" class=\"edge\">\n",
       "<title>B&#45;&gt;C</title>\n",
       "<path fill=\"none\" stroke=\"black\" d=\"M27,-86.8C27,-75.16 27,-59.55 27,-46.24\"/>\n",
       "<polygon fill=\"black\" stroke=\"black\" points=\"30.5,-46.18 27,-36.18 23.5,-46.18 30.5,-46.18\"/>\n",
       "<text text-anchor=\"middle\" x=\"32\" y=\"-57.8\" font-family=\"Times,serif\" font-size=\"14.00\">R</text>\n",
       "</g>\n",
       "<!-- E -->\n",
       "<g id=\"node6\" class=\"node\">\n",
       "<title>E</title>\n",
       "<ellipse fill=\"none\" stroke=\"black\" cx=\"99\" cy=\"-105\" rx=\"27\" ry=\"18\"/>\n",
       "<text text-anchor=\"middle\" x=\"99\" y=\"-101.3\" font-family=\"Times,serif\" font-size=\"14.00\">E</text>\n",
       "</g>\n",
       "<!-- F&#45;&gt;E -->\n",
       "<g id=\"edge4\" class=\"edge\">\n",
       "<title>F&#45;&gt;E</title>\n",
       "<path fill=\"none\" stroke=\"black\" d=\"M99,-173.8C99,-162.16 99,-146.55 99,-133.24\"/>\n",
       "<polygon fill=\"black\" stroke=\"black\" points=\"102.5,-133.18 99,-123.18 95.5,-133.18 102.5,-133.18\"/>\n",
       "<text text-anchor=\"middle\" x=\"103.5\" y=\"-144.8\" font-family=\"Times,serif\" font-size=\"14.00\">L</text>\n",
       "</g>\n",
       "<!-- G -->\n",
       "<g id=\"node7\" class=\"node\">\n",
       "<title>G</title>\n",
       "<ellipse fill=\"none\" stroke=\"black\" cx=\"171\" cy=\"-105\" rx=\"27\" ry=\"18\"/>\n",
       "<text text-anchor=\"middle\" x=\"171\" y=\"-101.3\" font-family=\"Times,serif\" font-size=\"14.00\">G</text>\n",
       "</g>\n",
       "<!-- F&#45;&gt;G -->\n",
       "<g id=\"edge5\" class=\"edge\">\n",
       "<title>F&#45;&gt;G</title>\n",
       "<path fill=\"none\" stroke=\"black\" d=\"M111.87,-175.8C122.93,-162.75 139.04,-143.74 151.65,-128.85\"/>\n",
       "<polygon fill=\"black\" stroke=\"black\" points=\"154.45,-130.96 158.24,-121.06 149.11,-126.43 154.45,-130.96\"/>\n",
       "<text text-anchor=\"middle\" x=\"144\" y=\"-144.8\" font-family=\"Times,serif\" font-size=\"14.00\">R</text>\n",
       "</g>\n",
       "</g>\n",
       "</svg>\n"
      ],
      "text/plain": [
       "<__main__.BST at 0x10dc7fb90>"
      ]
     },
     "execution_count": 13,
     "metadata": {},
     "output_type": "execute_result"
    }
   ],
   "source": [
    "t = BST()\n",
    "t[\"D\"] = 9\n",
    "t[\"A\"] = 8\n",
    "t[\"B\"] = 7\n",
    "t[\"C\"] = 6\n",
    "t[\"F\"] = 5\n",
    "t[\"E\"] = 4\n",
    "t[\"G\"] = 3\n",
    "t"
   ]
  },
  {
   "cell_type": "code",
   "execution_count": 14,
   "metadata": {},
   "outputs": [
    {
     "data": {
      "image/svg+xml": [
       "<?xml version=\"1.0\" encoding=\"UTF-8\" standalone=\"no\"?>\n",
       "<!DOCTYPE svg PUBLIC \"-//W3C//DTD SVG 1.1//EN\"\n",
       " \"http://www.w3.org/Graphics/SVG/1.1/DTD/svg11.dtd\">\n",
       "<!-- Generated by graphviz version 2.44.0 (20200408.0750)\n",
       " -->\n",
       "<!-- Pages: 1 -->\n",
       "<svg width=\"278pt\" height=\"218pt\"\n",
       " viewBox=\"0.00 0.00 278.00 218.00\" xmlns=\"http://www.w3.org/2000/svg\" xmlns:xlink=\"http://www.w3.org/1999/xlink\">\n",
       "<g id=\"graph0\" class=\"graph\" transform=\"scale(1 1) rotate(0) translate(4 214)\">\n",
       "<polygon fill=\"white\" stroke=\"transparent\" points=\"-4,4 -4,-214 274,-214 274,4 -4,4\"/>\n",
       "<!-- D -->\n",
       "<g id=\"node1\" class=\"node\">\n",
       "<title>D</title>\n",
       "<ellipse fill=\"none\" stroke=\"black\" cx=\"135\" cy=\"-192\" rx=\"27\" ry=\"18\"/>\n",
       "<text text-anchor=\"middle\" x=\"135\" y=\"-188.3\" font-family=\"Times,serif\" font-size=\"14.00\">D</text>\n",
       "</g>\n",
       "<!-- B -->\n",
       "<g id=\"node2\" class=\"node\">\n",
       "<title>B</title>\n",
       "<ellipse fill=\"none\" stroke=\"black\" cx=\"99\" cy=\"-105\" rx=\"27\" ry=\"18\"/>\n",
       "<text text-anchor=\"middle\" x=\"99\" y=\"-101.3\" font-family=\"Times,serif\" font-size=\"14.00\">B</text>\n",
       "</g>\n",
       "<!-- D&#45;&gt;B -->\n",
       "<g id=\"edge3\" class=\"edge\">\n",
       "<title>D&#45;&gt;B</title>\n",
       "<path fill=\"none\" stroke=\"black\" d=\"M127.89,-174.21C122.78,-162.14 115.79,-145.64 109.97,-131.89\"/>\n",
       "<polygon fill=\"black\" stroke=\"black\" points=\"113.1,-130.31 105.98,-122.47 106.65,-133.04 113.1,-130.31\"/>\n",
       "<text text-anchor=\"middle\" x=\"124.5\" y=\"-144.8\" font-family=\"Times,serif\" font-size=\"14.00\">L</text>\n",
       "</g>\n",
       "<!-- F -->\n",
       "<g id=\"node5\" class=\"node\">\n",
       "<title>F</title>\n",
       "<ellipse fill=\"none\" stroke=\"black\" cx=\"171\" cy=\"-105\" rx=\"27\" ry=\"18\"/>\n",
       "<text text-anchor=\"middle\" x=\"171\" y=\"-101.3\" font-family=\"Times,serif\" font-size=\"14.00\">F</text>\n",
       "</g>\n",
       "<!-- D&#45;&gt;F -->\n",
       "<g id=\"edge6\" class=\"edge\">\n",
       "<title>D&#45;&gt;F</title>\n",
       "<path fill=\"none\" stroke=\"black\" d=\"M142.11,-174.21C147.22,-162.14 154.21,-145.64 160.03,-131.89\"/>\n",
       "<polygon fill=\"black\" stroke=\"black\" points=\"163.35,-133.04 164.02,-122.47 156.9,-130.31 163.35,-133.04\"/>\n",
       "<text text-anchor=\"middle\" x=\"160\" y=\"-144.8\" font-family=\"Times,serif\" font-size=\"14.00\">R</text>\n",
       "</g>\n",
       "<!-- A -->\n",
       "<g id=\"node3\" class=\"node\">\n",
       "<title>A</title>\n",
       "<ellipse fill=\"none\" stroke=\"black\" cx=\"27\" cy=\"-18\" rx=\"27\" ry=\"18\"/>\n",
       "<text text-anchor=\"middle\" x=\"27\" y=\"-14.3\" font-family=\"Times,serif\" font-size=\"14.00\">A</text>\n",
       "</g>\n",
       "<!-- B&#45;&gt;A -->\n",
       "<g id=\"edge1\" class=\"edge\">\n",
       "<title>B&#45;&gt;A</title>\n",
       "<path fill=\"none\" stroke=\"black\" d=\"M86.13,-88.8C75.07,-75.75 58.96,-56.74 46.35,-41.85\"/>\n",
       "<polygon fill=\"black\" stroke=\"black\" points=\"48.89,-39.43 39.76,-34.06 43.55,-43.96 48.89,-39.43\"/>\n",
       "<text text-anchor=\"middle\" x=\"72.5\" y=\"-57.8\" font-family=\"Times,serif\" font-size=\"14.00\">L</text>\n",
       "</g>\n",
       "<!-- C -->\n",
       "<g id=\"node4\" class=\"node\">\n",
       "<title>C</title>\n",
       "<ellipse fill=\"none\" stroke=\"black\" cx=\"99\" cy=\"-18\" rx=\"27\" ry=\"18\"/>\n",
       "<text text-anchor=\"middle\" x=\"99\" y=\"-14.3\" font-family=\"Times,serif\" font-size=\"14.00\">C</text>\n",
       "</g>\n",
       "<!-- B&#45;&gt;C -->\n",
       "<g id=\"edge2\" class=\"edge\">\n",
       "<title>B&#45;&gt;C</title>\n",
       "<path fill=\"none\" stroke=\"black\" d=\"M99,-86.8C99,-75.16 99,-59.55 99,-46.24\"/>\n",
       "<polygon fill=\"black\" stroke=\"black\" points=\"102.5,-46.18 99,-36.18 95.5,-46.18 102.5,-46.18\"/>\n",
       "<text text-anchor=\"middle\" x=\"104\" y=\"-57.8\" font-family=\"Times,serif\" font-size=\"14.00\">R</text>\n",
       "</g>\n",
       "<!-- E -->\n",
       "<g id=\"node6\" class=\"node\">\n",
       "<title>E</title>\n",
       "<ellipse fill=\"none\" stroke=\"black\" cx=\"171\" cy=\"-18\" rx=\"27\" ry=\"18\"/>\n",
       "<text text-anchor=\"middle\" x=\"171\" y=\"-14.3\" font-family=\"Times,serif\" font-size=\"14.00\">E</text>\n",
       "</g>\n",
       "<!-- F&#45;&gt;E -->\n",
       "<g id=\"edge4\" class=\"edge\">\n",
       "<title>F&#45;&gt;E</title>\n",
       "<path fill=\"none\" stroke=\"black\" d=\"M171,-86.8C171,-75.16 171,-59.55 171,-46.24\"/>\n",
       "<polygon fill=\"black\" stroke=\"black\" points=\"174.5,-46.18 171,-36.18 167.5,-46.18 174.5,-46.18\"/>\n",
       "<text text-anchor=\"middle\" x=\"175.5\" y=\"-57.8\" font-family=\"Times,serif\" font-size=\"14.00\">L</text>\n",
       "</g>\n",
       "<!-- G -->\n",
       "<g id=\"node7\" class=\"node\">\n",
       "<title>G</title>\n",
       "<ellipse fill=\"none\" stroke=\"black\" cx=\"243\" cy=\"-18\" rx=\"27\" ry=\"18\"/>\n",
       "<text text-anchor=\"middle\" x=\"243\" y=\"-14.3\" font-family=\"Times,serif\" font-size=\"14.00\">G</text>\n",
       "</g>\n",
       "<!-- F&#45;&gt;G -->\n",
       "<g id=\"edge5\" class=\"edge\">\n",
       "<title>F&#45;&gt;G</title>\n",
       "<path fill=\"none\" stroke=\"black\" d=\"M183.87,-88.8C194.93,-75.75 211.04,-56.74 223.65,-41.85\"/>\n",
       "<polygon fill=\"black\" stroke=\"black\" points=\"226.45,-43.96 230.24,-34.06 221.11,-39.43 226.45,-43.96\"/>\n",
       "<text text-anchor=\"middle\" x=\"216\" y=\"-57.8\" font-family=\"Times,serif\" font-size=\"14.00\">R</text>\n",
       "</g>\n",
       "</g>\n",
       "</svg>\n"
      ],
      "text/plain": [
       "<__main__.BST at 0x10dc66210>"
      ]
     },
     "execution_count": 14,
     "metadata": {},
     "output_type": "execute_result"
    }
   ],
   "source": [
    "t = BST()\n",
    "t[\"D\"] = 9\n",
    "t[\"B\"] = 7\n",
    "t[\"F\"] = 5\n",
    "t[\"A\"] = 8\n",
    "t[\"C\"] = 6\n",
    "t[\"E\"] = 4\n",
    "t[\"G\"] = 3\n",
    "t"
   ]
  },
  {
   "cell_type": "code",
   "execution_count": 15,
   "metadata": {},
   "outputs": [
    {
     "data": {
      "image/svg+xml": [
       "<?xml version=\"1.0\" encoding=\"UTF-8\" standalone=\"no\"?>\n",
       "<!DOCTYPE svg PUBLIC \"-//W3C//DTD SVG 1.1//EN\"\n",
       " \"http://www.w3.org/Graphics/SVG/1.1/DTD/svg11.dtd\">\n",
       "<!-- Generated by graphviz version 2.44.0 (20200408.0750)\n",
       " -->\n",
       "<!-- Pages: 1 -->\n",
       "<svg width=\"62pt\" height=\"566pt\"\n",
       " viewBox=\"0.00 0.00 62.00 566.00\" xmlns=\"http://www.w3.org/2000/svg\" xmlns:xlink=\"http://www.w3.org/1999/xlink\">\n",
       "<g id=\"graph0\" class=\"graph\" transform=\"scale(1 1) rotate(0) translate(4 562)\">\n",
       "<polygon fill=\"white\" stroke=\"transparent\" points=\"-4,4 -4,-562 58,-562 58,4 -4,4\"/>\n",
       "<!-- G -->\n",
       "<g id=\"node1\" class=\"node\">\n",
       "<title>G</title>\n",
       "<ellipse fill=\"none\" stroke=\"black\" cx=\"27\" cy=\"-540\" rx=\"27\" ry=\"18\"/>\n",
       "<text text-anchor=\"middle\" x=\"27\" y=\"-536.3\" font-family=\"Times,serif\" font-size=\"14.00\">G</text>\n",
       "</g>\n",
       "<!-- F -->\n",
       "<g id=\"node2\" class=\"node\">\n",
       "<title>F</title>\n",
       "<ellipse fill=\"none\" stroke=\"black\" cx=\"27\" cy=\"-453\" rx=\"27\" ry=\"18\"/>\n",
       "<text text-anchor=\"middle\" x=\"27\" y=\"-449.3\" font-family=\"Times,serif\" font-size=\"14.00\">F</text>\n",
       "</g>\n",
       "<!-- G&#45;&gt;F -->\n",
       "<g id=\"edge6\" class=\"edge\">\n",
       "<title>G&#45;&gt;F</title>\n",
       "<path fill=\"none\" stroke=\"black\" d=\"M27,-521.8C27,-510.16 27,-494.55 27,-481.24\"/>\n",
       "<polygon fill=\"black\" stroke=\"black\" points=\"30.5,-481.18 27,-471.18 23.5,-481.18 30.5,-481.18\"/>\n",
       "<text text-anchor=\"middle\" x=\"31.5\" y=\"-492.8\" font-family=\"Times,serif\" font-size=\"14.00\">L</text>\n",
       "</g>\n",
       "<!-- E -->\n",
       "<g id=\"node3\" class=\"node\">\n",
       "<title>E</title>\n",
       "<ellipse fill=\"none\" stroke=\"black\" cx=\"27\" cy=\"-366\" rx=\"27\" ry=\"18\"/>\n",
       "<text text-anchor=\"middle\" x=\"27\" y=\"-362.3\" font-family=\"Times,serif\" font-size=\"14.00\">E</text>\n",
       "</g>\n",
       "<!-- F&#45;&gt;E -->\n",
       "<g id=\"edge5\" class=\"edge\">\n",
       "<title>F&#45;&gt;E</title>\n",
       "<path fill=\"none\" stroke=\"black\" d=\"M27,-434.8C27,-423.16 27,-407.55 27,-394.24\"/>\n",
       "<polygon fill=\"black\" stroke=\"black\" points=\"30.5,-394.18 27,-384.18 23.5,-394.18 30.5,-394.18\"/>\n",
       "<text text-anchor=\"middle\" x=\"31.5\" y=\"-405.8\" font-family=\"Times,serif\" font-size=\"14.00\">L</text>\n",
       "</g>\n",
       "<!-- D -->\n",
       "<g id=\"node4\" class=\"node\">\n",
       "<title>D</title>\n",
       "<ellipse fill=\"none\" stroke=\"black\" cx=\"27\" cy=\"-279\" rx=\"27\" ry=\"18\"/>\n",
       "<text text-anchor=\"middle\" x=\"27\" y=\"-275.3\" font-family=\"Times,serif\" font-size=\"14.00\">D</text>\n",
       "</g>\n",
       "<!-- E&#45;&gt;D -->\n",
       "<g id=\"edge4\" class=\"edge\">\n",
       "<title>E&#45;&gt;D</title>\n",
       "<path fill=\"none\" stroke=\"black\" d=\"M27,-347.8C27,-336.16 27,-320.55 27,-307.24\"/>\n",
       "<polygon fill=\"black\" stroke=\"black\" points=\"30.5,-307.18 27,-297.18 23.5,-307.18 30.5,-307.18\"/>\n",
       "<text text-anchor=\"middle\" x=\"31.5\" y=\"-318.8\" font-family=\"Times,serif\" font-size=\"14.00\">L</text>\n",
       "</g>\n",
       "<!-- C -->\n",
       "<g id=\"node5\" class=\"node\">\n",
       "<title>C</title>\n",
       "<ellipse fill=\"none\" stroke=\"black\" cx=\"27\" cy=\"-192\" rx=\"27\" ry=\"18\"/>\n",
       "<text text-anchor=\"middle\" x=\"27\" y=\"-188.3\" font-family=\"Times,serif\" font-size=\"14.00\">C</text>\n",
       "</g>\n",
       "<!-- D&#45;&gt;C -->\n",
       "<g id=\"edge3\" class=\"edge\">\n",
       "<title>D&#45;&gt;C</title>\n",
       "<path fill=\"none\" stroke=\"black\" d=\"M27,-260.8C27,-249.16 27,-233.55 27,-220.24\"/>\n",
       "<polygon fill=\"black\" stroke=\"black\" points=\"30.5,-220.18 27,-210.18 23.5,-220.18 30.5,-220.18\"/>\n",
       "<text text-anchor=\"middle\" x=\"31.5\" y=\"-231.8\" font-family=\"Times,serif\" font-size=\"14.00\">L</text>\n",
       "</g>\n",
       "<!-- B -->\n",
       "<g id=\"node6\" class=\"node\">\n",
       "<title>B</title>\n",
       "<ellipse fill=\"none\" stroke=\"black\" cx=\"27\" cy=\"-105\" rx=\"27\" ry=\"18\"/>\n",
       "<text text-anchor=\"middle\" x=\"27\" y=\"-101.3\" font-family=\"Times,serif\" font-size=\"14.00\">B</text>\n",
       "</g>\n",
       "<!-- C&#45;&gt;B -->\n",
       "<g id=\"edge2\" class=\"edge\">\n",
       "<title>C&#45;&gt;B</title>\n",
       "<path fill=\"none\" stroke=\"black\" d=\"M27,-173.8C27,-162.16 27,-146.55 27,-133.24\"/>\n",
       "<polygon fill=\"black\" stroke=\"black\" points=\"30.5,-133.18 27,-123.18 23.5,-133.18 30.5,-133.18\"/>\n",
       "<text text-anchor=\"middle\" x=\"31.5\" y=\"-144.8\" font-family=\"Times,serif\" font-size=\"14.00\">L</text>\n",
       "</g>\n",
       "<!-- A -->\n",
       "<g id=\"node7\" class=\"node\">\n",
       "<title>A</title>\n",
       "<ellipse fill=\"none\" stroke=\"black\" cx=\"27\" cy=\"-18\" rx=\"27\" ry=\"18\"/>\n",
       "<text text-anchor=\"middle\" x=\"27\" y=\"-14.3\" font-family=\"Times,serif\" font-size=\"14.00\">A</text>\n",
       "</g>\n",
       "<!-- B&#45;&gt;A -->\n",
       "<g id=\"edge1\" class=\"edge\">\n",
       "<title>B&#45;&gt;A</title>\n",
       "<path fill=\"none\" stroke=\"black\" d=\"M27,-86.8C27,-75.16 27,-59.55 27,-46.24\"/>\n",
       "<polygon fill=\"black\" stroke=\"black\" points=\"30.5,-46.18 27,-36.18 23.5,-46.18 30.5,-46.18\"/>\n",
       "<text text-anchor=\"middle\" x=\"31.5\" y=\"-57.8\" font-family=\"Times,serif\" font-size=\"14.00\">L</text>\n",
       "</g>\n",
       "</g>\n",
       "</svg>\n"
      ],
      "text/plain": [
       "<__main__.BST at 0x10dc66dd0>"
      ]
     },
     "execution_count": 15,
     "metadata": {},
     "output_type": "execute_result"
    }
   ],
   "source": [
    "t = BST()\n",
    "t[\"G\"] = 3\n",
    "t[\"F\"] = 5\n",
    "t[\"E\"] = 4\n",
    "t[\"D\"] = 9\n",
    "t[\"C\"] = 6\n",
    "t[\"B\"] = 7\n",
    "t[\"A\"] = 8\n",
    "t"
   ]
  },
  {
   "cell_type": "code",
   "execution_count": null,
   "metadata": {},
   "outputs": [],
   "source": []
  },
  {
   "cell_type": "markdown",
   "metadata": {},
   "source": [
    "# Part 2"
   ]
  },
  {
   "cell_type": "code",
   "execution_count": 16,
   "metadata": {},
   "outputs": [],
   "source": [
    "from datetime import datetime\n",
    "fri = datetime(2020, 2, 21)"
   ]
  },
  {
   "cell_type": "code",
   "execution_count": 17,
   "metadata": {},
   "outputs": [
    {
     "data": {
      "text/plain": [
       "'21 of Feb'"
      ]
     },
     "execution_count": 17,
     "metadata": {},
     "output_type": "execute_result"
    }
   ],
   "source": [
    "fri.strftime(\"%d of %b\")"
   ]
  },
  {
   "cell_type": "code",
   "execution_count": 21,
   "metadata": {},
   "outputs": [
    {
     "data": {
      "text/plain": [
       "'21 of Feb, 2020'"
      ]
     },
     "execution_count": 21,
     "metadata": {},
     "output_type": "execute_result"
    }
   ],
   "source": [
    "fri.strftime(\"%d of %b, %Y\")"
   ]
  },
  {
   "cell_type": "code",
   "execution_count": 22,
   "metadata": {},
   "outputs": [
    {
     "data": {
      "text/plain": [
       "'Friday'"
      ]
     },
     "execution_count": 22,
     "metadata": {},
     "output_type": "execute_result"
    }
   ],
   "source": [
    "fri.strftime(\"%A\")"
   ]
  },
  {
   "cell_type": "code",
   "execution_count": 25,
   "metadata": {},
   "outputs": [
    {
     "data": {
      "text/plain": [
       "'Fri, February 21'"
      ]
     },
     "execution_count": 25,
     "metadata": {},
     "output_type": "execute_result"
    }
   ],
   "source": [
    "fri.strftime(\"%a, %B %d\")"
   ]
  },
  {
   "cell_type": "code",
   "execution_count": 27,
   "metadata": {},
   "outputs": [
    {
     "data": {
      "text/plain": [
       "'2020-02-21'"
      ]
     },
     "execution_count": 27,
     "metadata": {},
     "output_type": "execute_result"
    }
   ],
   "source": [
    "fri.strftime(\"%Y-%m-%d\")"
   ]
  },
  {
   "cell_type": "code",
   "execution_count": 28,
   "metadata": {},
   "outputs": [
    {
     "data": {
      "text/plain": [
       "'20200221'"
      ]
     },
     "execution_count": 28,
     "metadata": {},
     "output_type": "execute_result"
    }
   ],
   "source": [
    "fri.strftime(\"%Y%m%d\")"
   ]
  },
  {
   "cell_type": "code",
   "execution_count": 34,
   "metadata": {},
   "outputs": [
    {
     "data": {
      "text/plain": [
       "datetime.datetime(2020, 5, 26, 12, 3, 56, 548670)"
      ]
     },
     "execution_count": 34,
     "metadata": {},
     "output_type": "execute_result"
    }
   ],
   "source": [
    "now = datetime.now()\n",
    "now"
   ]
  },
  {
   "cell_type": "code",
   "execution_count": 37,
   "metadata": {},
   "outputs": [
    {
     "data": {
      "text/plain": [
       "'12 PM'"
      ]
     },
     "execution_count": 37,
     "metadata": {},
     "output_type": "execute_result"
    }
   ],
   "source": [
    "now.strftime(\"%I %p\")"
   ]
  },
  {
   "cell_type": "code",
   "execution_count": 38,
   "metadata": {},
   "outputs": [
    {
     "data": {
      "text/plain": [
       "'12:03:56'"
      ]
     },
     "execution_count": 38,
     "metadata": {},
     "output_type": "execute_result"
    }
   ],
   "source": [
    "now.strftime(\"%H:%M:%S\")"
   ]
  },
  {
   "cell_type": "code",
   "execution_count": 39,
   "metadata": {},
   "outputs": [
    {
     "data": {
      "text/plain": [
       "'12:03:56.548670'"
      ]
     },
     "execution_count": 39,
     "metadata": {},
     "output_type": "execute_result"
    }
   ],
   "source": [
    "now.strftime(\"%H:%M:%S.%f\")"
   ]
  },
  {
   "cell_type": "code",
   "execution_count": 40,
   "metadata": {},
   "outputs": [
    {
     "data": {
      "text/plain": [
       "'12:03:56.548670 on 2020-05-26'"
      ]
     },
     "execution_count": 40,
     "metadata": {},
     "output_type": "execute_result"
    }
   ],
   "source": [
    "now.strftime(\"%H:%M:%S.%f on %Y-%m-%d\")"
   ]
  },
  {
   "cell_type": "code",
   "execution_count": 44,
   "metadata": {},
   "outputs": [
    {
     "data": {
      "text/plain": [
       "'20200526120356'"
      ]
     },
     "execution_count": 44,
     "metadata": {},
     "output_type": "execute_result"
    }
   ],
   "source": [
    "now.strftime(\"%Y%m%d%H%M%S\")"
   ]
  },
  {
   "cell_type": "code",
   "execution_count": 46,
   "metadata": {},
   "outputs": [
    {
     "data": {
      "text/plain": [
       "'apple'"
      ]
     },
     "execution_count": 46,
     "metadata": {},
     "output_type": "execute_result"
    }
   ],
   "source": [
    "fruits = ['apple', 'banana', 'cherry']\n",
    "fruits.pop(0)"
   ]
  },
  {
   "cell_type": "markdown",
   "metadata": {},
   "source": [
    "# Part 3"
   ]
  },
  {
   "cell_type": "code",
   "execution_count": 48,
   "metadata": {},
   "outputs": [
    {
     "name": "stdout",
     "output_type": "stream",
     "text": [
      "SUM: 19999900000\n",
      "SECONDS: 3.526895046234131\n"
     ]
    }
   ],
   "source": [
    "from time import time\n",
    "\n",
    "vals = list(range(200000)) # 200K\n",
    "total = 0\n",
    "\n",
    "t0 = time()\n",
    "while len(vals) > 0:\n",
    "    total += vals.pop(0)\n",
    "t1 = time()\n",
    "print(\"SUM:\", total)\n",
    "print(\"SECONDS:\", t1-t0)"
   ]
  },
  {
   "cell_type": "code",
   "execution_count": 49,
   "metadata": {},
   "outputs": [
    {
     "name": "stdout",
     "output_type": "stream",
     "text": [
      "SUM: 19999900000\n",
      "SECONDS: 0.04389619827270508\n"
     ]
    }
   ],
   "source": [
    "from time import time\n",
    "from collections import deque\n",
    "\n",
    "vals = deque(range(200000)) # 200K\n",
    "total = 0\n",
    "\n",
    "t0 = time()\n",
    "while len(vals) > 0:\n",
    "    total += vals.popleft()\n",
    "t1 = time()\n",
    "print(\"SUM:\", total)\n",
    "print(\"SECONDS:\", t1-t0)"
   ]
  },
  {
   "cell_type": "code",
   "execution_count": null,
   "metadata": {},
   "outputs": [],
   "source": []
  }
 ],
 "metadata": {
  "kernelspec": {
   "display_name": "Python 3",
   "language": "python",
   "name": "python3"
  },
  "language_info": {
   "codemirror_mode": {
    "name": "ipython",
    "version": 3
   },
   "file_extension": ".py",
   "mimetype": "text/x-python",
   "name": "python",
   "nbconvert_exporter": "python",
   "pygments_lexer": "ipython3",
   "version": "3.7.4"
  }
 },
 "nbformat": 4,
 "nbformat_minor": 4
}
